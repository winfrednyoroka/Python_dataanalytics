{
 "cells": [
  {
   "cell_type": "markdown",
   "metadata": {},
   "source": [
    "# Tuples"
   ]
  },
  {
   "cell_type": "code",
   "execution_count": 1,
   "metadata": {},
   "outputs": [
    {
     "data": {
      "text/plain": [
       "tuple"
      ]
     },
     "execution_count": 1,
     "metadata": {},
     "output_type": "execute_result"
    }
   ],
   "source": [
    "# Are immutable\n",
    "tup=(1,2,3)\n",
    "type(tup)\n"
   ]
  },
  {
   "cell_type": "code",
   "execution_count": 5,
   "metadata": {},
   "outputs": [
    {
     "name": "stdout",
     "output_type": "stream",
     "text": [
      "19 10\n",
      "10 19\n"
     ]
    }
   ],
   "source": [
    "# mapping\n",
    "(x,y)=(10,19)\n",
    "print(y,x)\n",
    "print(x,y)"
   ]
  },
  {
   "cell_type": "code",
   "execution_count": 8,
   "metadata": {},
   "outputs": [
    {
     "data": {
      "text/plain": [
       "True"
      ]
     },
     "execution_count": 8,
     "metadata": {},
     "output_type": "execute_result"
    }
   ],
   "source": [
    "# Comparing tuples\n",
    "#(2,3)>(4,5) #false\n",
    "(1,2)<(45,\"win\") #True"
   ]
  },
  {
   "cell_type": "code",
   "execution_count": 3,
   "metadata": {},
   "outputs": [
    {
     "name": "stdout",
     "output_type": "stream",
     "text": [
      "{'a': 1, 'c': 4, 'b': 0}\n"
     ]
    },
    {
     "data": {
      "text/plain": [
       "dict_items([('a', 1), ('c', 4), ('b', 0)])"
      ]
     },
     "execution_count": 3,
     "metadata": {},
     "output_type": "execute_result"
    }
   ],
   "source": [
    "#counting and checking the most repeated words\n",
    "dict1={\"a\":1,\"c\":4,\"b\":0}\n",
    "print(dict1)\n",
    "dict1.items() #returns inform of a tuple in a list"
   ]
  },
  {
   "cell_type": "code",
   "execution_count": 17,
   "metadata": {},
   "outputs": [
    {
     "name": "stdout",
     "output_type": "stream",
     "text": [
      "a 1\n",
      "b 0\n",
      "c 4\n"
     ]
    },
    {
     "data": {
      "text/plain": [
       "[(4, 'c'), (4, 'c'), (1, 'a'), (1, 'a'), (0, 'b'), (0, 'b')]"
      ]
     },
     "execution_count": 17,
     "metadata": {},
     "output_type": "execute_result"
    }
   ],
   "source": [
    "#Initialise an empty list\n",
    "for k,v in sorted(dict1.items()):\n",
    "    print(k,v)\n",
    "    "
   ]
  },
  {
   "cell_type": "code",
   "execution_count": 31,
   "metadata": {},
   "outputs": [
    {
     "name": "stdout",
     "output_type": "stream",
     "text": [
      "a 1\n",
      "c 4\n",
      "b 0\n",
      "[(4, 'c'), (1, 'a'), (0, 'b')]\n",
      "[(4, 'c')]\n"
     ]
    }
   ],
   "source": [
    "# Sorting the tuples in the list\n",
    "lst=list()\n",
    "for k,v in dict1.items():\n",
    "    print(k,v)\n",
    "    lst.append((v,k)) # appending into the list the entries as tuples\n",
    "#print(lst)\n",
    "lst=sorted(lst,reverse=True)\n",
    "print(lst)\n",
    "# slicing the tuples in the list\n",
    "print(lst[0:1]) #prints the first entry\n",
    "   \n"
   ]
  },
  {
   "cell_type": "code",
   "execution_count": 9,
   "metadata": {},
   "outputs": [
    {
     "name": "stdin",
     "output_type": "stream",
     "text": [
      "Please enter a file name file.txt\n"
     ]
    },
    {
     "name": "stdout",
     "output_type": "stream",
     "text": [
      "/Users/wgatua/Documents/Gatua/Workshops/Afterwork_datascience/Pyth_fordata/file.txt\n",
      "in 7\n",
      "of 7\n",
      "[(7, 'of'), (7, 'in'), (6, 'the'), (6, 'and'), (4, 'resistance'), (3, 'to'), (3, 'is'), (3, 'are'), (3, 'antibiotic'), (3, 'a'), (2, 'will')]\n"
     ]
    }
   ],
   "source": [
    "'''Reading in a text file then from that do counting \n",
    "    store in a dictionary and finally into list as tuples\n",
    "    then select the top ten''' \n",
    "import os # Importing the operating sytem path\n",
    "file=input(\"Please enter a file name\")\n",
    "path=os.path.abspath(file)\n",
    "#initialise an empty dictionary to be populated\n",
    "hand=dict()\n",
    "print(path)\n",
    "filehandle=open(file)\n",
    "for line in filehandle:\n",
    "    #print(line)\n",
    "    line=line.split()\n",
    "    #print(line)\n",
    "    for word in line:\n",
    "        hand[word]=hand.get(word,0)+1\n",
    "    #print(hand)\n",
    "'''\n",
    "Initialise an empty list then populate the list with tuples \n",
    "from the dictionary\n",
    "'''\n",
    "handlst=list()\n",
    "for (k,v) in hand.items():\n",
    "    #print(v,k)\n",
    "    handlst.append((v,k))\n",
    "    if v is max(hand.values()):\n",
    "        print(k,v)\n",
    "#print(handlst)\n",
    "# sorting the list\n",
    "handlst=sorted(handlst,reverse=True)\n",
    "print(handlst[0:11])\n",
    "    \n",
    "    \n"
   ]
  },
  {
   "cell_type": "raw",
   "metadata": {},
   "source": [
    "import os # Importing the operating sytem path\n",
    "file=input(\"Please enter a file name\")\n",
    "path=os.path.abspath(file)\n",
    "#initialise an empty dictionary to be populated\n",
    "hand=dict()\n",
    "print(path)\n",
    "filehandle=open(file)\n",
    "for line in filehandle:\n",
    "    if line.startswith(\"strain\"):\n",
    "        continue\n",
    "    #print(line)\n",
    "    line=line.split()\n",
    "    #print(line)\n",
    "for word in line:\n",
    "    hand[word]=hand.get(word,0)+1\n",
    "print(hand)\n",
    "\n",
    "#  cat sequence-2_version2sortedfeatures.csv | awk -F ',' '{print $3}' >sequence2_Names\n"
   ]
  },
  {
   "cell_type": "code",
   "execution_count": 3,
   "metadata": {},
   "outputs": [
    {
     "name": "stdin",
     "output_type": "stream",
     "text": [
      "Please enter a file name ../../../MSC_PROJECT/Data/Raw_fa/sequence2_Names\n"
     ]
    },
    {
     "name": "stdout",
     "output_type": "stream",
     "text": [
      "1128 ['Homo sapiens']\n",
      "\n",
      "[(1128, \"['Homo sapiens']\\n\"), (75, \"['Chaenogobius annularis']\\n\"), (36, \"['Architeuthis dux']\\n\"), (35, \"['Hypophthalmichthys nobilis']\\n\"), (33, \"['Ursus spelaeus']\\n\"), (33, \"['Protobothrops flavoviridis']\\n\"), (32, \"['Oncorhynchus masou masou']\\n\"), (26, \"['Salamandrella keyserlingii']\\n\"), (26, \"['Equus caballus']\\n\"), (26, \"['Arctocephalus forsteri']\\n\"), (22, \"['Branchiostoma floridae']\\n\")]\n"
     ]
    }
   ],
   "source": [
    "import os # Importing the operating sytem path\n",
    "file=input(\"Please enter a file name\")\n",
    "path=os.path.abspath(file)\n",
    "#initialise an empty dictionary to be populated\n",
    "hand1=dict()\n",
    "#print(path)\n",
    "filehandle=open(file)\n",
    "lst1=filehandle.readlines()\n",
    "#print(type(lst1))\n",
    "for word in lst1:\n",
    "    hand1[word]=hand1.get(word,0)+1\n",
    "#print(hand1)\n",
    "# Empty list\n",
    "count=[]\n",
    "for k,v in hand1.items():\n",
    "    count.append((v,k))\n",
    "    if v is max(hand1.values()):\n",
    "        print(v,k)\n",
    "    count=sorted(count,reverse=True)\n",
    "print(count[0:11])\n",
    "filehandle.close()\n"
   ]
  },
  {
   "cell_type": "code",
   "execution_count": null,
   "metadata": {},
   "outputs": [],
   "source": []
  }
 ],
 "metadata": {
  "kernelspec": {
   "display_name": "Python 3",
   "language": "python",
   "name": "python3"
  },
  "language_info": {
   "codemirror_mode": {
    "name": "ipython",
    "version": 3
   },
   "file_extension": ".py",
   "mimetype": "text/x-python",
   "name": "python",
   "nbconvert_exporter": "python",
   "pygments_lexer": "ipython3",
   "version": "3.8.5"
  }
 },
 "nbformat": 4,
 "nbformat_minor": 4
}
