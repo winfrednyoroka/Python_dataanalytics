{
 "cells": [
  {
   "cell_type": "markdown",
   "metadata": {},
   "source": [
    "# Refresher for python on free code camp"
   ]
  },
  {
   "cell_type": "code",
   "execution_count": 1,
   "metadata": {},
   "outputs": [],
   "source": [
    "# a program that asks the user to enter their name and welcomes them"
   ]
  },
  {
   "cell_type": "code",
   "execution_count": 3,
   "metadata": {},
   "outputs": [
    {
     "name": "stdin",
     "output_type": "stream",
     "text": [
      "Please enter your name:  Winfred\n"
     ]
    },
    {
     "name": "stdout",
     "output_type": "stream",
     "text": [
      "Hello Winfred . Welcome to todays session\n"
     ]
    }
   ],
   "source": [
    "name=input(\"Please enter your name: \")\n",
    "print(\"Hello\", name,\". Welcome to todays session\")"
   ]
  },
  {
   "cell_type": "code",
   "execution_count": 10,
   "metadata": {},
   "outputs": [
    {
     "name": "stdin",
     "output_type": "stream",
     "text": [
      "Please enter the no of hours worked:  8\n",
      "Please enter the rate per hour worked:  5.123\n"
     ]
    },
    {
     "name": "stdout",
     "output_type": "stream",
     "text": [
      "Your gross salary is:  40.98\n"
     ]
    }
   ],
   "source": [
    "# A program to compute for the gross salary\n",
    "hours=input(\"Please enter the no of hours worked: \")\n",
    "rate=input(\"Please enter the rate per hour worked: \")\n",
    "gross_salary=int(hours)*float(rate)\n",
    "gross_salary=round(gross_salary,2)\n",
    "print(\"Your gross salary is: \",gross_salary)"
   ]
  },
  {
   "cell_type": "code",
   "execution_count": 6,
   "metadata": {},
   "outputs": [
    {
     "data": {
      "text/plain": [
       "\u001b[0;31mSignature:\u001b[0m \u001b[0mround\u001b[0m\u001b[0;34m(\u001b[0m\u001b[0mnumber\u001b[0m\u001b[0;34m,\u001b[0m \u001b[0mndigits\u001b[0m\u001b[0;34m=\u001b[0m\u001b[0;32mNone\u001b[0m\u001b[0;34m)\u001b[0m\u001b[0;34m\u001b[0m\u001b[0;34m\u001b[0m\u001b[0m\n",
       "\u001b[0;31mDocstring:\u001b[0m\n",
       "Round a number to a given precision in decimal digits.\n",
       "\n",
       "The return value is an integer if ndigits is omitted or None.  Otherwise\n",
       "the return value has the same type as the number.  ndigits may be negative.\n",
       "\u001b[0;31mType:\u001b[0m      builtin_function_or_method\n"
      ]
     },
     "metadata": {},
     "output_type": "display_data"
    }
   ],
   "source": [
    "?round # getting help for rounding off"
   ]
  },
  {
   "cell_type": "code",
   "execution_count": 11,
   "metadata": {},
   "outputs": [
    {
     "name": "stdout",
     "output_type": "stream",
     "text": [
      "Yes\n"
     ]
    }
   ],
   "source": [
    "x=0\n",
    "y=10\n",
    "if 0==x:\n",
    "    if y==10:\n",
    "        print(\"Yes\")"
   ]
  },
  {
   "cell_type": "code",
   "execution_count": 14,
   "metadata": {},
   "outputs": [
    {
     "name": "stdout",
     "output_type": "stream",
     "text": [
      "Yes\n"
     ]
    }
   ],
   "source": [
    "if 0==x:\n",
    "    if y==10:\n",
    "        print(\"Yes\")"
   ]
  },
  {
   "cell_type": "code",
   "execution_count": 16,
   "metadata": {},
   "outputs": [
    {
     "name": "stdout",
     "output_type": "stream",
     "text": [
      "0\n"
     ]
    }
   ],
   "source": [
    "temp = \"5 degrees\"\n",
    "cel = 0\n",
    "try:\n",
    "    fahr = float(temp)\n",
    "    cel = (fahr - 32.0) * 5.0 / 9.0\n",
    "except:\n",
    "    print(cel)"
   ]
  },
  {
   "cell_type": "code",
   "execution_count": 25,
   "metadata": {},
   "outputs": [
    {
     "name": "stdin",
     "output_type": "stream",
     "text": [
      "Please enter the no of hours worked:  45\n",
      "Please enter the rate per hour worked:  10\n"
     ]
    },
    {
     "name": "stdout",
     "output_type": "stream",
     "text": [
      "Your gross salary is:  475.0\n"
     ]
    }
   ],
   "source": [
    "hours=input(\"Please enter the no of hours worked: \")\n",
    "rate=input(\"Please enter the rate per hour worked: \")\n",
    "if int(hours)<=40:\n",
    "    gross_salary=int(hours)*float(rate)\n",
    "    gross_salary=round(gross_salary,2)\n",
    "    print(\"Your gross salary is: \",gross_salary)\n",
    "else:\n",
    "    gross_salary=40*float(rate)+(((int(hours)-40)*(float(rate)*1.5)))\n",
    "    gross_salary=round(gross_salary,2)\n",
    "    print(\"Your gross salary is: \",gross_salary)\n",
    "    "
   ]
  },
  {
   "cell_type": "code",
   "execution_count": 29,
   "metadata": {},
   "outputs": [
    {
     "name": "stdin",
     "output_type": "stream",
     "text": [
      "Please enter the no of hours:  forty\n",
      "Please enter the rate per hour :  10\n"
     ]
    },
    {
     "name": "stdout",
     "output_type": "stream",
     "text": [
      "Enter a numeric instead of characters\n"
     ]
    }
   ],
   "source": [
    "# Try and except\n",
    "hours=input(\"Please enter the no of hours: \")\n",
    "rate=input(\"Please enter the rate per hour : \")\n",
    "try:\n",
    "    if int(hours)<=40:\n",
    "        gross_salary=int(hours)*float(rate)\n",
    "        gross_salary=round(gross_salary,2)\n",
    "        print(\"Your gross salary is: \",gross_salary)\n",
    "    else:\n",
    "        gross_salary=40*float(rate)+(((int(hours)-40)*(float(rate)*1.5)))\n",
    "        gross_salary=round(gross_salary,2)\n",
    "        print(\"Your gross salary is: \",gross_salary)\n",
    "\n",
    "except:\n",
    "    print(\"ERROR,Enter a numeric instead of characters\")\n",
    "\n",
    "    "
   ]
  },
  {
   "cell_type": "code",
   "execution_count": 30,
   "metadata": {},
   "outputs": [
    {
     "name": "stdout",
     "output_type": "stream",
     "text": [
      "Your gross salary is:  100.0\n"
     ]
    }
   ],
   "source": [
    "def Computepay(hours,rate):\n",
    "    try:\n",
    "        if int(hours)<=40:\n",
    "            gross_salary=int(hours)*float(rate)\n",
    "            gross_salary=round(gross_salary,2)\n",
    "            print(\"Your gross salary is: \",gross_salary)\n",
    "        else:\n",
    "            gross_salary=40*float(rate)+(((int(hours)-40)*(float(rate)*1.5)))\n",
    "            gross_salary=round(gross_salary,2)\n",
    "            print(\"Your gross salary is: \",gross_salary)\n",
    "\n",
    "    except:\n",
    "        print(\"ERROR,Enter a numeric instead of characters\")\n",
    "Computepay(10,10)"
   ]
  },
  {
   "cell_type": "code",
   "execution_count": 33,
   "metadata": {},
   "outputs": [
    {
     "name": "stdout",
     "output_type": "stream",
     "text": [
      "ERROR,Enter a numeric instead of characters\n"
     ]
    }
   ],
   "source": [
    "Computepay(45,\"ten\")"
   ]
  },
  {
   "cell_type": "code",
   "execution_count": 41,
   "metadata": {},
   "outputs": [
    {
     "data": {
      "text/plain": [
       "'D'"
      ]
     },
     "execution_count": 41,
     "metadata": {},
     "output_type": "execute_result"
    }
   ],
   "source": [
    "def Computegrade(score):\n",
    "    if score==0.9:\n",
    "        return \"A\"\n",
    "    elif score==0.8:\n",
    "        return \"B\"\n",
    "    elif score==0.7:\n",
    "        return \"C\"\n",
    "    else:\n",
    "        return \"D\"\n",
    "    \n"
   ]
  },
  {
   "cell_type": "code",
   "execution_count": 43,
   "metadata": {},
   "outputs": [
    {
     "data": {
      "text/plain": [
       "'A'"
      ]
     },
     "execution_count": 43,
     "metadata": {},
     "output_type": "execute_result"
    }
   ],
   "source": [
    "Computegrade(0.9)\n",
    "#Computegrade(0.5)"
   ]
  },
  {
   "cell_type": "code",
   "execution_count": 50,
   "metadata": {},
   "outputs": [
    {
     "name": "stdout",
     "output_type": "stream",
     "text": [
      "10\n",
      "9\n",
      "8\n",
      "7\n",
      "6\n",
      "5\n",
      "4\n",
      "3\n",
      "2\n",
      "1\n"
     ]
    }
   ],
   "source": [
    "#While loop\n",
    "n=10\n",
    "while n>0:\n",
    "    print(n)\n",
    "    n=n-1\n",
    "    #print(\"Gatua we won\")"
   ]
  },
  {
   "cell_type": "code",
   "execution_count": 48,
   "metadata": {},
   "outputs": [
    {
     "name": "stdout",
     "output_type": "stream",
     "text": [
      "0\n",
      "1\n",
      "2\n",
      "3\n",
      "4\n",
      "5\n",
      "6\n",
      "7\n",
      "8\n",
      "9\n",
      "10\n"
     ]
    }
   ],
   "source": [
    "#For loop\n",
    "n=10\n",
    "for i in range(n+1):\n",
    "    print(i)\n",
    "    "
   ]
  },
  {
   "cell_type": "code",
   "execution_count": 1,
   "metadata": {},
   "outputs": [
    {
     "name": "stdout",
     "output_type": "stream",
     "text": [
      "Welcome to our 2nd meeting:  winnnie\n",
      "Welcome to our 2nd meeting:  Beatrice\n",
      "Welcome to our 2nd meeting:  Linda\n",
      "Welcome to our 2nd meeting:  Joy\n",
      "Welcome to our 2nd meeting:  Ivy\n",
      "I have successfully invited your friends\n"
     ]
    }
   ],
   "source": [
    "friends=[\"winnnie\",\"Beatrice\",\"Linda\",\"Joy\",\"Ivy\"]\n",
    "for name in friends:\n",
    "    print(\"Welcome to our 2nd meeting: \", name)\n",
    "print(\"I have successfully invited your friends\")"
   ]
  },
  {
   "cell_type": "code",
   "execution_count": 56,
   "metadata": {},
   "outputs": [
    {
     "name": "stdout",
     "output_type": "stream",
     "text": [
      "Gatua we are done\n"
     ]
    }
   ],
   "source": [
    "# Use of Break to exit loops\n",
    "n=5\n",
    "while n<0:\n",
    "    print(n)\n",
    "    if n==3:\n",
    "        continue\n",
    "print(\"Gatua we are done\")"
   ]
  },
  {
   "cell_type": "code",
   "execution_count": 57,
   "metadata": {},
   "outputs": [
    {
     "name": "stdout",
     "output_type": "stream",
     "text": [
      "0\n",
      "1\n",
      "2\n"
     ]
    }
   ],
   "source": [
    "n = 0\n",
    "while True:\n",
    "    if n == 3:\n",
    "        break\n",
    "    print(n)\n",
    "    n = n + 1"
   ]
  },
  {
   "cell_type": "code",
   "execution_count": 2,
   "metadata": {},
   "outputs": [],
   "source": [
    "# Continue\n"
   ]
  },
  {
   "cell_type": "code",
   "execution_count": 6,
   "metadata": {},
   "outputs": [
    {
     "name": "stdout",
     "output_type": "stream",
     "text": [
      "the largest number is:  567\n"
     ]
    }
   ],
   "source": [
    "# the largest number in a list\n",
    "largest_no=0\n",
    "lst1=[3,87,45,6,1,9,87,76,3,4,67,567,89,78]\n",
    "for element in lst1:\n",
    "    if element>largest_no:\n",
    "        largest_no=element\n",
    "print(\"the largest number is: \",largest_no)"
   ]
  },
  {
   "cell_type": "code",
   "execution_count": 11,
   "metadata": {},
   "outputs": [
    {
     "name": "stdout",
     "output_type": "stream",
     "text": [
      "Before: None\n",
      "Smallest: 3\n"
     ]
    }
   ],
   "source": [
    "smallest = None\n",
    "print(\"Before:\", smallest)\n",
    "for itervar in [24, 41, 12, 9, 74, 15]:\n",
    "    if smallest is None or itervar < smallest:\n",
    "        smallest = itervar\n",
    "       # break--it causes the loop not to workas expected\n",
    "    print(\"Loop:\", itervar, smallest)\n",
    "print(\"Smallest:\", smallest)"
   ]
  },
  {
   "cell_type": "code",
   "execution_count": 13,
   "metadata": {},
   "outputs": [
    {
     "name": "stdout",
     "output_type": "stream",
     "text": [
      "3\n"
     ]
    }
   ],
   "source": [
    "# Counting loop\n",
    "#initialise a counter\n",
    "total=0\n",
    "interest=\"Win\"\n",
    "lst2=[\"Win\",\"Ivy\",\"Win\",\"bridgit\",\"Mutai\",\"Nyaga\",\"Vetasia\",\"Kym\",\"Win\",\"Nyoroka\",\"Mary\",\"Gatua\"]\n",
    "for i in lst2:\n",
    "    if i==interest:\n",
    "        total+=1\n",
    "print(total)\n"
   ]
  },
  {
   "cell_type": "code",
   "execution_count": 26,
   "metadata": {},
   "outputs": [],
   "source": [
    "def counter(n): #function takesin a list and counts\n",
    "    total=0\n",
    "    interest=n\n",
    "    lst2=[\"Win\",\"Ivy\",\"Win\",1,2,10,4,5,6,7,8,9,2,10,10,\"bridgit\",\"Mutai\",\"Nyaga\",\"Vetasia\",\"Kym\",\"Win\",\"Nyoroka\",\"Mary\",\"Gatua\"]\n",
    "    for i in lst2:\n",
    "        if i==interest:\n",
    "            total+=1\n",
    "    return total\n",
    "\n",
    "\n",
    "    "
   ]
  },
  {
   "cell_type": "code",
   "execution_count": 27,
   "metadata": {},
   "outputs": [
    {
     "data": {
      "text/plain": [
       "3"
      ]
     },
     "execution_count": 27,
     "metadata": {},
     "output_type": "execute_result"
    }
   ],
   "source": [
    "counter(10)"
   ]
  },
  {
   "cell_type": "code",
   "execution_count": 41,
   "metadata": {},
   "outputs": [
    {
     "name": "stdout",
     "output_type": "stream",
     "text": [
      "13\n",
      "1119 86.07692307692308\n"
     ]
    }
   ],
   "source": [
    "#summing, counting and averaging in a loop\n",
    "count=0\n",
    "total=0\n",
    "lst3=lst1[1:]\n",
    "lst3\n",
    "for i in lst3:\n",
    "    count+=1\n",
    "    total=total+i\n",
    "print(count)\n",
    "print(total, total/count)"
   ]
  },
  {
   "cell_type": "code",
   "execution_count": 42,
   "metadata": {},
   "outputs": [
    {
     "data": {
      "text/plain": [
       "[87, 45, 6, 1, 9, 87, 76, 3, 4, 67, 567, 89, 78]"
      ]
     },
     "execution_count": 42,
     "metadata": {},
     "output_type": "execute_result"
    }
   ],
   "source": [
    "lst3"
   ]
  },
  {
   "cell_type": "code",
   "execution_count": 54,
   "metadata": {},
   "outputs": [
    {
     "name": "stdout",
     "output_type": "stream",
     "text": [
      "True 3\n"
     ]
    }
   ],
   "source": [
    "#Searching for values in a list\n",
    "found=False\n",
    "for i in lst3:\n",
    "    if i==3:\n",
    "        found=True\n",
    "        print(found,i)\n",
    "        break\n",
    "    "
   ]
  },
  {
   "cell_type": "code",
   "execution_count": 60,
   "metadata": {},
   "outputs": [
    {
     "name": "stdout",
     "output_type": "stream",
     "text": [
      "3\n"
     ]
    }
   ],
   "source": [
    "word=\"banana\"\n",
    "count=0\n",
    "for i in word:\n",
    "    if i ==\"a\":\n",
    "        count+=1\n",
    "print(count)"
   ]
  },
  {
   "cell_type": "code",
   "execution_count": 2,
   "metadata": {},
   "outputs": [
    {
     "name": "stdin",
     "output_type": "stream",
     "text": [
      "please enter a value: 23\n",
      "please enter a value: 54\n",
      "please enter a value: 10\n",
      "please enter a value: done\n"
     ]
    },
    {
     "name": "stdout",
     "output_type": "stream",
     "text": [
      "3 87.0 29.0\n"
     ]
    }
   ],
   "source": [
    "# ask the user to input a number then get average.\n",
    "num=0\n",
    "total=0.0\n",
    "while True:\n",
    "    val1=input(\"please enter a value:\")\n",
    "    if val1==\"done\":\n",
    "        break\n",
    "    try:\n",
    "        val2=float(val1)\n",
    "    except:\n",
    "        print(\"invalid input\")\n",
    "        continue\n",
    "    num=num+1\n",
    "    total=total+val2\n",
    "print(num,total,total/num)\n",
    "    \n",
    "    \n",
    "    "
   ]
  },
  {
   "cell_type": "code",
   "execution_count": 1,
   "metadata": {},
   "outputs": [
    {
     "data": {
      "text/plain": [
       "9"
      ]
     },
     "execution_count": 1,
     "metadata": {},
     "output_type": "execute_result"
    }
   ],
   "source": [
    "max(3,4+5)"
   ]
  },
  {
   "cell_type": "code",
   "execution_count": 2,
   "metadata": {},
   "outputs": [
    {
     "data": {
      "text/plain": [
       "['ArithmeticError',\n",
       " 'AssertionError',\n",
       " 'AttributeError',\n",
       " 'BaseException',\n",
       " 'BlockingIOError',\n",
       " 'BrokenPipeError',\n",
       " 'BufferError',\n",
       " 'BytesWarning',\n",
       " 'ChildProcessError',\n",
       " 'ConnectionAbortedError',\n",
       " 'ConnectionError',\n",
       " 'ConnectionRefusedError',\n",
       " 'ConnectionResetError',\n",
       " 'DeprecationWarning',\n",
       " 'EOFError',\n",
       " 'Ellipsis',\n",
       " 'EnvironmentError',\n",
       " 'Exception',\n",
       " 'False',\n",
       " 'FileExistsError',\n",
       " 'FileNotFoundError',\n",
       " 'FloatingPointError',\n",
       " 'FutureWarning',\n",
       " 'GeneratorExit',\n",
       " 'IOError',\n",
       " 'ImportError',\n",
       " 'ImportWarning',\n",
       " 'IndentationError',\n",
       " 'IndexError',\n",
       " 'InterruptedError',\n",
       " 'IsADirectoryError',\n",
       " 'KeyError',\n",
       " 'KeyboardInterrupt',\n",
       " 'LookupError',\n",
       " 'MemoryError',\n",
       " 'ModuleNotFoundError',\n",
       " 'NameError',\n",
       " 'None',\n",
       " 'NotADirectoryError',\n",
       " 'NotImplemented',\n",
       " 'NotImplementedError',\n",
       " 'OSError',\n",
       " 'OverflowError',\n",
       " 'PendingDeprecationWarning',\n",
       " 'PermissionError',\n",
       " 'ProcessLookupError',\n",
       " 'RecursionError',\n",
       " 'ReferenceError',\n",
       " 'ResourceWarning',\n",
       " 'RuntimeError',\n",
       " 'RuntimeWarning',\n",
       " 'StopAsyncIteration',\n",
       " 'StopIteration',\n",
       " 'SyntaxError',\n",
       " 'SyntaxWarning',\n",
       " 'SystemError',\n",
       " 'SystemExit',\n",
       " 'TabError',\n",
       " 'TimeoutError',\n",
       " 'True',\n",
       " 'TypeError',\n",
       " 'UnboundLocalError',\n",
       " 'UnicodeDecodeError',\n",
       " 'UnicodeEncodeError',\n",
       " 'UnicodeError',\n",
       " 'UnicodeTranslateError',\n",
       " 'UnicodeWarning',\n",
       " 'UserWarning',\n",
       " 'ValueError',\n",
       " 'Warning',\n",
       " 'ZeroDivisionError',\n",
       " '__IPYTHON__',\n",
       " '__build_class__',\n",
       " '__debug__',\n",
       " '__doc__',\n",
       " '__import__',\n",
       " '__loader__',\n",
       " '__name__',\n",
       " '__package__',\n",
       " '__spec__',\n",
       " 'abs',\n",
       " 'all',\n",
       " 'any',\n",
       " 'ascii',\n",
       " 'bin',\n",
       " 'bool',\n",
       " 'breakpoint',\n",
       " 'bytearray',\n",
       " 'bytes',\n",
       " 'callable',\n",
       " 'chr',\n",
       " 'classmethod',\n",
       " 'compile',\n",
       " 'complex',\n",
       " 'copyright',\n",
       " 'credits',\n",
       " 'delattr',\n",
       " 'dict',\n",
       " 'dir',\n",
       " 'display',\n",
       " 'divmod',\n",
       " 'enumerate',\n",
       " 'eval',\n",
       " 'exec',\n",
       " 'filter',\n",
       " 'float',\n",
       " 'format',\n",
       " 'frozenset',\n",
       " 'get_ipython',\n",
       " 'getattr',\n",
       " 'globals',\n",
       " 'hasattr',\n",
       " 'hash',\n",
       " 'help',\n",
       " 'hex',\n",
       " 'id',\n",
       " 'input',\n",
       " 'int',\n",
       " 'isinstance',\n",
       " 'issubclass',\n",
       " 'iter',\n",
       " 'len',\n",
       " 'license',\n",
       " 'list',\n",
       " 'locals',\n",
       " 'map',\n",
       " 'max',\n",
       " 'memoryview',\n",
       " 'min',\n",
       " 'next',\n",
       " 'object',\n",
       " 'oct',\n",
       " 'open',\n",
       " 'ord',\n",
       " 'pow',\n",
       " 'print',\n",
       " 'property',\n",
       " 'range',\n",
       " 'repr',\n",
       " 'reversed',\n",
       " 'round',\n",
       " 'set',\n",
       " 'setattr',\n",
       " 'slice',\n",
       " 'sorted',\n",
       " 'staticmethod',\n",
       " 'str',\n",
       " 'sum',\n",
       " 'super',\n",
       " 'tuple',\n",
       " 'type',\n",
       " 'vars',\n",
       " 'zip']"
      ]
     },
     "execution_count": 2,
     "metadata": {},
     "output_type": "execute_result"
    }
   ],
   "source": [
    "dir(__builtins__) # accesses the builtins opeartors and syntanx"
   ]
  },
  {
   "cell_type": "code",
   "execution_count": 3,
   "metadata": {},
   "outputs": [
    {
     "name": "stdout",
     "output_type": "stream",
     "text": [
      "Help on built-in function ord in module builtins:\n",
      "\n",
      "ord(c, /)\n",
      "    Return the Unicode code point for a one-character string.\n",
      "\n"
     ]
    }
   ],
   "source": [
    "help(ord)"
   ]
  },
  {
   "cell_type": "code",
   "execution_count": 11,
   "metadata": {},
   "outputs": [
    {
     "data": {
      "text/plain": [
       "97"
      ]
     },
     "execution_count": 11,
     "metadata": {},
     "output_type": "execute_result"
    }
   ],
   "source": [
    "ord(\"a\")"
   ]
  },
  {
   "cell_type": "code",
   "execution_count": 12,
   "metadata": {},
   "outputs": [
    {
     "name": "stdout",
     "output_type": "stream",
     "text": [
      "Help on built-in function round in module builtins:\n",
      "\n",
      "round(number, ndigits=None)\n",
      "    Round a number to a given precision in decimal digits.\n",
      "    \n",
      "    The return value is an integer if ndigits is omitted or None.  Otherwise\n",
      "    the return value has the same type as the number.  ndigits may be negative.\n",
      "\n"
     ]
    }
   ],
   "source": [
    "help(round)"
   ]
  },
  {
   "cell_type": "code",
   "execution_count": 16,
   "metadata": {},
   "outputs": [
    {
     "data": {
      "text/plain": [
       "5.769"
      ]
     },
     "execution_count": 16,
     "metadata": {},
     "output_type": "execute_result"
    }
   ],
   "source": [
    "round(5.7685, 3)"
   ]
  },
  {
   "cell_type": "code",
   "execution_count": 17,
   "metadata": {},
   "outputs": [
    {
     "data": {
      "text/plain": [
       "8916100448256"
      ]
     },
     "execution_count": 17,
     "metadata": {},
     "output_type": "execute_result"
    }
   ],
   "source": [
    "def bigger(x):\n",
    "    return x ** x\n",
    "\n",
    "bigger(12)"
   ]
  },
  {
   "cell_type": "code",
   "execution_count": 18,
   "metadata": {},
   "outputs": [
    {
     "data": {
      "text/plain": [
       "45"
      ]
     },
     "execution_count": 18,
     "metadata": {},
     "output_type": "execute_result"
    }
   ],
   "source": [
    "round(45.35)"
   ]
  },
  {
   "cell_type": "code",
   "execution_count": 19,
   "metadata": {},
   "outputs": [
    {
     "ename": "SyntaxError",
     "evalue": "cannot assign to literal (<ipython-input-19-291541ed03ef>, line 1)",
     "output_type": "error",
     "traceback": [
      "\u001b[0;36m  File \u001b[0;32m\"<ipython-input-19-291541ed03ef>\"\u001b[0;36m, line \u001b[0;32m1\u001b[0m\n\u001b[0;31m    8=x\u001b[0m\n\u001b[0m    ^\u001b[0m\n\u001b[0;31mSyntaxError\u001b[0m\u001b[0;31m:\u001b[0m cannot assign to literal\n"
     ]
    }
   ],
   "source": [
    "8=x"
   ]
  },
  {
   "cell_type": "code",
   "execution_count": 20,
   "metadata": {},
   "outputs": [
    {
     "data": {
      "text/plain": [
       "45"
      ]
     },
     "execution_count": 20,
     "metadata": {},
     "output_type": "execute_result"
    }
   ],
   "source": [
    "round(45)"
   ]
  },
  {
   "cell_type": "code",
   "execution_count": 21,
   "metadata": {},
   "outputs": [
    {
     "name": "stdout",
     "output_type": "stream",
     "text": [
      "3\n",
      "4\n",
      "5\n"
     ]
    }
   ],
   "source": [
    "print(\"3\\n4\\n5\")"
   ]
  },
  {
   "cell_type": "code",
   "execution_count": 22,
   "metadata": {},
   "outputs": [
    {
     "name": "stdout",
     "output_type": "stream",
     "text": [
      "\\n is the newline character in Python\n"
     ]
    }
   ],
   "source": [
    "print(\"\\\\n is the newline character in Python\")"
   ]
  },
  {
   "cell_type": "code",
   "execution_count": 23,
   "metadata": {},
   "outputs": [],
   "source": [
    "def perimeter(a,b,c):\n",
    "    '''number,number,number>>float\n",
    "    this function takes in numbers and or integers \n",
    "    sums them up and returns the sum total'''\n",
    "    per=a+b+c\n",
    "    return per"
   ]
  },
  {
   "cell_type": "code",
   "execution_count": 24,
   "metadata": {},
   "outputs": [
    {
     "data": {
      "text/plain": [
       "9"
      ]
     },
     "execution_count": 24,
     "metadata": {},
     "output_type": "execute_result"
    }
   ],
   "source": [
    "perimeter(2,3,4)"
   ]
  },
  {
   "cell_type": "code",
   "execution_count": 25,
   "metadata": {},
   "outputs": [],
   "source": [
    "def semiperimeter(a,b,c):\n",
    "    return perimeter(a,b,c)/2"
   ]
  },
  {
   "cell_type": "code",
   "execution_count": 26,
   "metadata": {},
   "outputs": [
    {
     "data": {
      "text/plain": [
       "6.0"
      ]
     },
     "execution_count": 26,
     "metadata": {},
     "output_type": "execute_result"
    }
   ],
   "source": [
    "semiperimeter(3,4,5)"
   ]
  },
  {
   "cell_type": "code",
   "execution_count": 10,
   "metadata": {},
   "outputs": [
    {
     "data": {
      "text/plain": [
       "2"
      ]
     },
     "execution_count": 10,
     "metadata": {},
     "output_type": "execute_result"
    }
   ],
   "source": [
    "# working with strings\n",
    "word = \"bananana\"\n",
    "i = word.find(\"na\")\n",
    "i"
   ]
  },
  {
   "cell_type": "code",
   "execution_count": 5,
   "metadata": {},
   "outputs": [
    {
     "data": {
      "text/plain": [
       "'ana'"
      ]
     },
     "execution_count": 5,
     "metadata": {},
     "output_type": "execute_result"
    }
   ],
   "source": [
    "# slicing\n",
    "word[:] # takes the entire word\n",
    "word[1:4] # word sub 1 through 4 except 4"
   ]
  },
  {
   "cell_type": "code",
   "execution_count": 12,
   "metadata": {},
   "outputs": [
    {
     "name": "stdout",
     "output_type": "stream",
     "text": [
      "a found\n"
     ]
    }
   ],
   "source": [
    "# using in as a logical operator\n",
    "i=\"a\"\n",
    "if i in word:\n",
    "    print(\"a found\")"
   ]
  },
  {
   "cell_type": "code",
   "execution_count": 14,
   "metadata": {},
   "outputs": [
    {
     "name": "stdout",
     "output_type": "stream",
     "text": [
      "aLL IS WELL\n"
     ]
    }
   ],
   "source": [
    "# string comparison\n",
    "# compares in lexicographical manner\n",
    "if word==\"bananana\":\n",
    "    print(\"aLL IS WELL\")\n",
    "elif word<\"banana\":\n",
    "    print(\"your word is less than word\")\n",
    "else:\n",
    "    print(\"the word is all equal\")"
   ]
  },
  {
   "cell_type": "code",
   "execution_count": 21,
   "metadata": {},
   "outputs": [
    {
     "name": "stdout",
     "output_type": "stream",
     "text": [
      "hellowinnie  \n"
     ]
    }
   ],
   "source": [
    "# help for str\n",
    "#?str\n",
    "print(\"helloWinnie  \".lower()) # converting all uppercase to lowercase"
   ]
  },
  {
   "cell_type": "code",
   "execution_count": 22,
   "metadata": {},
   "outputs": [
    {
     "name": "stdout",
     "output_type": "stream",
     "text": [
      "hello Winnie  \n"
     ]
    }
   ],
   "source": [
    "# removing white spaces in the string\n",
    "print(\"  hello Winnie  \".lstrip()) # left strip\n"
   ]
  },
  {
   "cell_type": "code",
   "execution_count": 30,
   "metadata": {},
   "outputs": [
    {
     "data": {
      "text/plain": [
       "\u001b[0;31mDocstring:\u001b[0m\n",
       "S.find(sub[, start[, end]]) -> int\n",
       "\n",
       "Return the lowest index in S where substring sub is found,\n",
       "such that sub is contained within S[start:end].  Optional\n",
       "arguments start and end are interpreted as in slice notation.\n",
       "\n",
       "Return -1 on failure.\n",
       "\u001b[0;31mType:\u001b[0m      method_descriptor\n"
      ]
     },
     "metadata": {},
     "output_type": "display_data"
    }
   ],
   "source": [
    "?str.find"
   ]
  },
  {
   "cell_type": "code",
   "execution_count": 55,
   "metadata": {},
   "outputs": [
    {
     "name": "stdout",
     "output_type": "stream",
     "text": [
      "these line counts are: 37\n"
     ]
    }
   ],
   "source": [
    "# Reading files\n",
    "fhand=open(\"./refresher.py\",\"r\")\n",
    "count=0\n",
    "for line in fhand:\n",
    "    count=count+1\n",
    "print(\"these line counts are:\",count)"
   ]
  },
  {
   "cell_type": "raw",
   "metadata": {},
   "source": [
    "fhand=open(\"./refresher.py\",\"r\")\n",
    "#count=0\n",
    "fhand1=fhand.read()\n",
    "#for line in fhand:\n",
    "   # count=count+1\n",
    "print(fhand1)\n",
    "len(fhand1)\n",
    "fhand1[:]"
   ]
  },
  {
   "cell_type": "code",
   "execution_count": 46,
   "metadata": {},
   "outputs": [
    {
     "name": "stdout",
     "output_type": "stream",
     "text": [
      "print(5+7)\n",
      "print(8-10)\n",
      "print(9*11)\n",
      "print(-15/3)\n",
      "print(3**3)\n",
      "print(2**1/2)\n",
      "print((3.2*10**12)*2.5)\n",
      "print((2.3/10**12)*45.3)\n",
      "print(9%2)\n",
      "print(1522756%37) # it is not exactly divisible since there is a remainder\n",
      "print(22//7)\n",
      "print((5*1.20)+(8*2.15))\n",
      "print(1000/(20+30))\n",
      "print(((3*15.20)+(9*17.45)+(2*24))-(20/100*((3*15.20)+(9*17.45)+(2*24))))\n",
      "print(\"Once upon a time\")\n",
      "print('''Ready…\n",
      "print(\"Con\"+\"cat\"+\"en\"+\"ate\")\n"
     ]
    }
   ],
   "source": [
    "# Reading files\n",
    "fhand=open(\"./refresher.py\",\"r\")\n",
    "for line in fhand:\n",
    "    line=line.rstrip() # removes newline characters\n",
    "    if line.startswith(\"print\"):\n",
    "        print(line)"
   ]
  },
  {
   "cell_type": "code",
   "execution_count": 50,
   "metadata": {},
   "outputs": [
    {
     "name": "stdout",
     "output_type": "stream",
     "text": [
      "print(5+7)\n",
      "print(8-10)\n",
      "print(9*11)\n",
      "print(-15/3)\n",
      "print(3**3)\n",
      "print(2**1/2)\n",
      "print((3.2*10**12)*2.5)\n",
      "print((2.3/10**12)*45.3)\n",
      "print(9%2)\n",
      "print(1522756%37) # it is not exactly divisible since there is a remainder\n",
      "print(22//7)\n",
      "print((5*1.20)+(8*2.15))\n",
      "print(1000/(20+30))\n",
      "print(((3*15.20)+(9*17.45)+(2*24))-(20/100*((3*15.20)+(9*17.45)+(2*24))))\n",
      "print(\"Once upon a time\")\n",
      "print('''Ready…\n",
      "print(\"Con\"+\"cat\"+\"en\"+\"ate\")\n"
     ]
    }
   ],
   "source": [
    "# Reading files\n",
    "fhand=open(\"./refresher.py\",\"r\")\n",
    "for line in fhand:\n",
    "    line=line.rstrip() # removes newline characters\n",
    "    if not line.startswith(\"print\"):\n",
    "        continue\n",
    "    print(line)"
   ]
  },
  {
   "cell_type": "code",
   "execution_count": 52,
   "metadata": {},
   "outputs": [
    {
     "name": "stdout",
     "output_type": "stream",
     "text": [
      "print(5+7)\n",
      "print(8-10)\n",
      "print(9*11)\n",
      "print(-15/3)\n",
      "print(3**3)\n",
      "print(2**1/2)\n",
      "print((3.2*10**12)*2.5)\n",
      "print((2.3/10**12)*45.3)\n",
      "print(9%2)\n",
      "print(1522756%37) # it is not exactly divisible since there is a remainder\n",
      "print(22//7)\n",
      "print((5*1.20)+(8*2.15))\n",
      "print(1000/(20+30))\n",
      "print(((3*15.20)+(9*17.45)+(2*24))-(20/100*((3*15.20)+(9*17.45)+(2*24))))\n",
      "print(\"Once upon a time\")\n",
      "print('''Ready…\n",
      "##print(\"Ready…\n",
      "print(\"Con\"+\"cat\"+\"en\"+\"ate\")\n"
     ]
    }
   ],
   "source": [
    "# Reading files\n",
    "fhand=open(\"./refresher.py\",\"r\")\n",
    "for line in fhand:\n",
    "    line=line.rstrip() # removes newline characters\n",
    "    if not \"print\" in line:\n",
    "        continue\n",
    "    print(line)"
   ]
  },
  {
   "cell_type": "code",
   "execution_count": 2,
   "metadata": {},
   "outputs": [
    {
     "name": "stdin",
     "output_type": "stream",
     "text": [
      "please enter a file name refresher.py\n"
     ]
    },
    {
     "name": "stdout",
     "output_type": "stream",
     "text": [
      "37\n"
     ]
    }
   ],
   "source": [
    "filename=input(\"please enter a file name\")\n",
    "fhand2=open(filename)\n",
    "count=0\n",
    "for i in fhand2:\n",
    "    count+=1\n",
    "print(count)"
   ]
  },
  {
   "cell_type": "code",
   "execution_count": 3,
   "metadata": {},
   "outputs": [
    {
     "name": "stdin",
     "output_type": "stream",
     "text": [
      "please enter a file name rgt\n"
     ]
    },
    {
     "name": "stdout",
     "output_type": "stream",
     "text": [
      "the file does not exist and could not be opened rgt\n",
      "0\n"
     ]
    }
   ],
   "source": [
    "#try and except block to catch the error\n",
    "filename=input(\"please enter a file name\")\n",
    "try:\n",
    "    fhand3=open(filename)\n",
    "except:\n",
    "    print(\"the file does not exist and could not be opened\",filename)\n",
    "    quit()\n",
    "count=0        \n",
    "for i in fhand2:\n",
    "    count+=1\n",
    "print(count)"
   ]
  },
  {
   "cell_type": "code",
   "execution_count": 2,
   "metadata": {},
   "outputs": [
    {
     "name": "stdin",
     "output_type": "stream",
     "text": [
      "please enter the path to the file ght\n",
      "please enter a file name hgty\n"
     ]
    },
    {
     "name": "stdout",
     "output_type": "stream",
     "text": [
      "Nosuch file name, check the path\n"
     ]
    },
    {
     "ename": "ValueError",
     "evalue": "I/O operation on closed file.",
     "output_type": "error",
     "traceback": [
      "\u001b[0;31m---------------------------------------------------------------------------\u001b[0m",
      "\u001b[0;31mValueError\u001b[0m                                Traceback (most recent call last)",
      "\u001b[0;32m<ipython-input-2-58c28141a350>\u001b[0m in \u001b[0;36m<module>\u001b[0;34m\u001b[0m\n\u001b[1;32m      8\u001b[0m     \u001b[0mprint\u001b[0m\u001b[0;34m(\u001b[0m\u001b[0;34m\"Nosuch file name, check the path\"\u001b[0m\u001b[0;34m)\u001b[0m\u001b[0;34m\u001b[0m\u001b[0;34m\u001b[0m\u001b[0m\n\u001b[1;32m      9\u001b[0m     \u001b[0mquit\u001b[0m\u001b[0;34m(\u001b[0m\u001b[0;34m)\u001b[0m\u001b[0;34m\u001b[0m\u001b[0;34m\u001b[0m\u001b[0m\n\u001b[0;32m---> 10\u001b[0;31m \u001b[0;32mfor\u001b[0m \u001b[0mline\u001b[0m \u001b[0;32min\u001b[0m \u001b[0mfhand4\u001b[0m\u001b[0;34m:\u001b[0m\u001b[0;34m\u001b[0m\u001b[0;34m\u001b[0m\u001b[0m\n\u001b[0m\u001b[1;32m     11\u001b[0m     \u001b[0mline\u001b[0m\u001b[0;34m=\u001b[0m\u001b[0mline\u001b[0m\u001b[0;34m.\u001b[0m\u001b[0mrstrip\u001b[0m\u001b[0;34m(\u001b[0m\u001b[0;34m)\u001b[0m\u001b[0;34m\u001b[0m\u001b[0;34m\u001b[0m\u001b[0m\n\u001b[1;32m     12\u001b[0m     \u001b[0mprint\u001b[0m\u001b[0;34m(\u001b[0m\u001b[0mline\u001b[0m\u001b[0;34m)\u001b[0m\u001b[0;34m\u001b[0m\u001b[0;34m\u001b[0m\u001b[0m\n",
      "\u001b[0;31mValueError\u001b[0m: I/O operation on closed file."
     ]
    }
   ],
   "source": [
    "import os\n",
    "path=input(\"please enter the path to the file\")\n",
    "fname=input(\"please enter a file name\")\n",
    "mypath_file=os.path.join(path,fname) # concatinating the path and file name\n",
    "try:\n",
    "    fhand4=open(mypath_file)\n",
    "except:\n",
    "    print(\"Nosuch file name, check the path\")\n",
    "    quit()\n",
    "for line in fhand4:\n",
    "    line=line.rstrip()\n",
    "    print(line)\n",
    "fhand4.close()"
   ]
  },
  {
   "cell_type": "code",
   "execution_count": 11,
   "metadata": {},
   "outputs": [
    {
     "name": "stdout",
     "output_type": "stream",
     "text": [
      "Object `os.getpath` not found.\n"
     ]
    }
   ],
   "source": []
  },
  {
   "cell_type": "code",
   "execution_count": 1,
   "metadata": {},
   "outputs": [
    {
     "name": "stdin",
     "output_type": "stream",
     "text": [
      "please enter a file name refresher.py\n"
     ]
    },
    {
     "name": "stdout",
     "output_type": "stream",
     "text": [
      "\n",
      "print(5+7)\n",
      "print(8-10)\n",
      "print(9*11)\n",
      "print(-15/3)\n",
      "print(3**3)\n",
      "print(2**1/2)\n",
      "\n",
      "print((3.2*10**12)*2.5)\n",
      "\n",
      "## 1 gram is equal to 10^12 picograms\n",
      "print((2.3/10**12)*45.3)\n",
      "\n",
      "#remainder of dividing a number\n",
      "print(9%2)\n",
      "print(1522756%37) # it is not exactly divisible since there is a remainder\n",
      "#floor division\n",
      "print(22//7)\n",
      "\n",
      "print((5*1.20)+(8*2.15))\n",
      "\n",
      "print(1000/(20+30))\n",
      "print(((3*15.20)+(9*17.45)+(2*24))-(20/100*((3*15.20)+(9*17.45)+(2*24))))\n",
      "\n",
      "##strings\n",
      "print(\"Once upon a time\")\n",
      "\n",
      "print('''Ready…\n",
      "Steady…\n",
      "Go!\n",
      "''')\n",
      "\n",
      "##print(\"Ready…\n",
      "\\nSteady…\n",
      "\\nGo!\n",
      "\")\n",
      "print(\"Con\"+\"cat\"+\"en\"+\"ate\")\n"
     ]
    }
   ],
   "source": [
    "import os # operating system imported which allows me to usethe paths\n",
    "#path=input(\"please enter the path to the file\")\n",
    "fname=input(\"please enter a file name\")\n",
    "#mypath_file=os.path.join(path,fname) # concatinating the path and file name\n",
    "try:\n",
    "    fhand4=open(fname)\n",
    "except:\n",
    "    print(\"Nosuch file name, check the path\")\n",
    "    quit()\n",
    "for line in fhand4:\n",
    "    line=line.rstrip()\n",
    "    print(line)\n",
    "fhand4.close()"
   ]
  },
  {
   "cell_type": "code",
   "execution_count": 1,
   "metadata": {},
   "outputs": [
    {
     "name": "stdin",
     "output_type": "stream",
     "text": [
      "please enter the path to the file .\n"
     ]
    },
    {
     "name": "stdout",
     "output_type": "stream",
     "text": [
      "THE PATH EXISTS\n"
     ]
    },
    {
     "name": "stdin",
     "output_type": "stream",
     "text": [
      "please enter a file name refresher.py\n"
     ]
    },
    {
     "name": "stdout",
     "output_type": "stream",
     "text": [
      "\n",
      "print(5+7)\n",
      "print(8-10)\n",
      "print(9*11)\n",
      "print(-15/3)\n",
      "print(3**3)\n",
      "print(2**1/2)\n",
      "\n",
      "print((3.2*10**12)*2.5)\n",
      "\n",
      "## 1 gram is equal to 10^12 picograms\n",
      "print((2.3/10**12)*45.3)\n",
      "\n",
      "#remainder of dividing a number\n",
      "print(9%2)\n",
      "print(1522756%37) # it is not exactly divisible since there is a remainder\n",
      "#floor division\n",
      "print(22//7)\n",
      "\n",
      "print((5*1.20)+(8*2.15))\n",
      "\n",
      "print(1000/(20+30))\n",
      "print(((3*15.20)+(9*17.45)+(2*24))-(20/100*((3*15.20)+(9*17.45)+(2*24))))\n",
      "\n",
      "##strings\n",
      "print(\"Once upon a time\")\n",
      "\n",
      "print('''Ready…\n",
      "Steady…\n",
      "Go!\n",
      "''')\n",
      "\n",
      "##print(\"Ready…\n",
      "\\nSteady…\n",
      "\\nGo!\n",
      "\")\n",
      "print(\"Con\"+\"cat\"+\"en\"+\"ate\")\n"
     ]
    }
   ],
   "source": [
    "# check whether the path exists\n",
    "import os\n",
    "path=input(\"please enter the path to the file\")\n",
    "tag=False\n",
    "if os.path.exists(path):\n",
    "    tag=True\n",
    "    print(\"The path Exists\".upper())\n",
    "else:\n",
    "    print(\"Check the path entred, not existent\".upper())\n",
    "fname=input(\"please enter a file name\")\n",
    "mypath_file=os.path.join(path,fname) # concatinating the path and file name\n",
    "try:\n",
    "    fhand5=open(mypath_file)\n",
    "except:\n",
    "    print(\"Nosuch file name, check the path\")\n",
    "    quit()\n",
    "for line in fhand5:\n",
    "    line=line.rstrip()\n",
    "    print(line)\n",
    "fhand5.close()"
   ]
  },
  {
   "cell_type": "code",
   "execution_count": 5,
   "metadata": {},
   "outputs": [
    {
     "name": "stdout",
     "output_type": "stream",
     "text": [
      "Hello World\n",
      "Hello Winfred\n",
      "Hello Gatua\n",
      "Successfully done with greeting\n"
     ]
    }
   ],
   "source": [
    "#split converts a string to a list\n",
    "word=\"World Winfred Gatua\"\n",
    "lst1=word.split() # splits a string to a list that we can loop through\n",
    "lst1\n",
    "for i in range(len(lst1)):\n",
    "    name=lst1[i]\n",
    "    print(\"Hello\",name)\n",
    "print(\"Successfully done with greeting\")"
   ]
  },
  {
   "cell_type": "code",
   "execution_count": 6,
   "metadata": {},
   "outputs": [
    {
     "name": "stdout",
     "output_type": "stream",
     "text": [
      "Hello World\n",
      "Hello Winfred\n",
      "Hello Gatua\n",
      "Successfully done with greeting\n"
     ]
    }
   ],
   "source": [
    "# alternatively\n",
    "#split converts a string to a list\n",
    "word=\"World Winfred Gatua\"\n",
    "lst1=word.split() # splits a string to a list that we can loop through\n",
    "lst1\n",
    "for i in (lst1):\n",
    "    print(\"Hello\",i)\n",
    "print(\"Successfully done with greeting\")"
   ]
  },
  {
   "cell_type": "code",
   "execution_count": 9,
   "metadata": {},
   "outputs": [
    {
     "data": {
      "text/plain": [
       "\u001b[0;31mSignature:\u001b[0m \u001b[0mstr\u001b[0m\u001b[0;34m.\u001b[0m\u001b[0msplit\u001b[0m\u001b[0;34m(\u001b[0m\u001b[0mself\u001b[0m\u001b[0;34m,\u001b[0m \u001b[0;34m/\u001b[0m\u001b[0;34m,\u001b[0m \u001b[0msep\u001b[0m\u001b[0;34m=\u001b[0m\u001b[0;32mNone\u001b[0m\u001b[0;34m,\u001b[0m \u001b[0mmaxsplit\u001b[0m\u001b[0;34m=\u001b[0m\u001b[0;34m-\u001b[0m\u001b[0;36m1\u001b[0m\u001b[0;34m)\u001b[0m\u001b[0;34m\u001b[0m\u001b[0;34m\u001b[0m\u001b[0m\n",
       "\u001b[0;31mDocstring:\u001b[0m\n",
       "Return a list of the words in the string, using sep as the delimiter string.\n",
       "\n",
       "sep\n",
       "  The delimiter according which to split the string.\n",
       "  None (the default value) means split according to any whitespace,\n",
       "  and discard empty strings from the result.\n",
       "maxsplit\n",
       "  Maximum number of splits to do.\n",
       "  -1 (the default value) means no limit.\n",
       "\u001b[0;31mType:\u001b[0m      method_descriptor\n"
      ]
     },
     "metadata": {},
     "output_type": "display_data"
    }
   ],
   "source": [
    "?str.split # help on split usage"
   ]
  },
  {
   "cell_type": "code",
   "execution_count": 10,
   "metadata": {},
   "outputs": [
    {
     "data": {
      "text/plain": [
       "\u001b[0;31mSignature:\u001b[0m \u001b[0mstr\u001b[0m\u001b[0;34m.\u001b[0m\u001b[0msplitlines\u001b[0m\u001b[0;34m(\u001b[0m\u001b[0mself\u001b[0m\u001b[0;34m,\u001b[0m \u001b[0;34m/\u001b[0m\u001b[0;34m,\u001b[0m \u001b[0mkeepends\u001b[0m\u001b[0;34m=\u001b[0m\u001b[0;32mFalse\u001b[0m\u001b[0;34m)\u001b[0m\u001b[0;34m\u001b[0m\u001b[0;34m\u001b[0m\u001b[0m\n",
       "\u001b[0;31mDocstring:\u001b[0m\n",
       "Return a list of the lines in the string, breaking at line boundaries.\n",
       "\n",
       "Line breaks are not included in the resulting list unless keepends is given and\n",
       "true.\n",
       "\u001b[0;31mType:\u001b[0m      method_descriptor\n"
      ]
     },
     "metadata": {},
     "output_type": "display_data"
    }
   ],
   "source": [
    "?str.splitlines"
   ]
  },
  {
   "cell_type": "markdown",
   "metadata": {},
   "source": [
    "# Dictionaries"
   ]
  },
  {
   "cell_type": "code",
   "execution_count": 17,
   "metadata": {},
   "outputs": [
    {
     "name": "stdout",
     "output_type": "stream",
     "text": [
      "{}\n",
      "{}\n",
      "{'win': 45, 'willy': 34, 'name': 'Gatua'}\n"
     ]
    }
   ],
   "source": [
    "# unordered entries\n",
    "dict1=dict() #initialising dictionaries\n",
    "print(dict1) # prints out an empty dictionary\n",
    "#alternatively\n",
    "dict2={} #initialising an empty dictionary\n",
    "print(dict2) # prints an empty dictionary\n",
    "dict3={\"win\":45,\"willy\":34,\"name\":\"Gatua\"} # initialising a dictionary with contents\n",
    "print(dict3)\n"
   ]
  },
  {
   "cell_type": "code",
   "execution_count": 18,
   "metadata": {},
   "outputs": [
    {
     "data": {
      "text/plain": [
       "{'win': 3, 'string': 4}"
      ]
     },
     "execution_count": 18,
     "metadata": {},
     "output_type": "execute_result"
    }
   ],
   "source": [
    "# populating dict1 wit keys and value pairs\n",
    "dict1['win']=3\n",
    "dict1['string']=4\n",
    "dict1"
   ]
  },
  {
   "cell_type": "code",
   "execution_count": 22,
   "metadata": {},
   "outputs": [
    {
     "name": "stdout",
     "output_type": "stream",
     "text": [
      "0\n"
     ]
    }
   ],
   "source": [
    "counts = { 'quincy' : 1 , 'mrugesh' : 42, 'beau': 100, '0': 10}\n",
    "print(counts.get('kris',0))"
   ]
  },
  {
   "cell_type": "code",
   "execution_count": 20,
   "metadata": {},
   "outputs": [
    {
     "data": {
      "text/plain": [
       "\u001b[0;31mSignature:\u001b[0m \u001b[0mcounts\u001b[0m\u001b[0;34m.\u001b[0m\u001b[0mget\u001b[0m\u001b[0;34m(\u001b[0m\u001b[0mkey\u001b[0m\u001b[0;34m,\u001b[0m \u001b[0mdefault\u001b[0m\u001b[0;34m=\u001b[0m\u001b[0;32mNone\u001b[0m\u001b[0;34m,\u001b[0m \u001b[0;34m/\u001b[0m\u001b[0;34m)\u001b[0m\u001b[0;34m\u001b[0m\u001b[0;34m\u001b[0m\u001b[0m\n",
       "\u001b[0;31mDocstring:\u001b[0m Return the value for key if key is in the dictionary, else default.\n",
       "\u001b[0;31mType:\u001b[0m      builtin_function_or_method\n"
      ]
     },
     "metadata": {},
     "output_type": "display_data"
    }
   ],
   "source": [
    "?counts.get # getting help on getting values associated with the key"
   ]
  },
  {
   "cell_type": "code",
   "execution_count": 24,
   "metadata": {},
   "outputs": [
    {
     "name": "stdout",
     "output_type": "stream",
     "text": [
      "{'win': 3, 'gatua': 2, 'mary': 2, 'jackson': 1, 'Lawrence': 1}\n"
     ]
    }
   ],
   "source": [
    "# counting using dict\n",
    "counts=dict()\n",
    "names=[\"win\",\"gatua\",\"win\",\"mary\",\"jackson\",\"Lawrence\",\"mary\",\"win\",\"gatua\"]\n",
    "for name in names:\n",
    "    if name not in counts:\n",
    "        counts[name]=1\n",
    "    else:\n",
    "        counts[name]=counts[name]+1\n",
    "print(counts)"
   ]
  },
  {
   "cell_type": "code",
   "execution_count": 31,
   "metadata": {},
   "outputs": [
    {
     "name": "stdout",
     "output_type": "stream",
     "text": [
      "{'win': 3, 'gatua': 2, 'mary': 2, 'jackson': 1, 'Lawrence': 1}\n"
     ]
    }
   ],
   "source": [
    "# alternatively\n",
    "counts=dict()\n",
    "names=[\"win\",\"gatua\",\"win\",\"mary\",\"jackson\",\"Lawrence\",\"mary\",\"win\",\"gatua\"]\n",
    "for name in names:\n",
    "    counts[name]=counts.get(name,0)+1\n",
    "print(counts)"
   ]
  },
  {
   "cell_type": "code",
   "execution_count": 8,
   "metadata": {},
   "outputs": [],
   "source": [
    "handle1=open(\"../../nextflow_h3abionet/nf-tut-2020/files/data/11_f2.bim\")\n",
    "line1=[] # initialising an empty list\n",
    "linedict=dict() # initialising an empty dictionary\n",
    "for line in handle1:\n",
    "    line=line.rstrip() # removing the newline characters\n",
    "    line=line.split(\"\\t\") # splitting the line based on tabs\n",
    "    #line1.append(line)\n",
    "    #print(line)\n",
    "    '''\n",
    "    for item in line1:\n",
    "        if item not in linedict:\n",
    "            linedict[item]=1\n",
    "        else:\n",
    "            linedict[item]=linedict[item]+1\n",
    "    print(linedict)\n",
    "      '''  \n",
    "    "
   ]
  },
  {
   "cell_type": "code",
   "execution_count": 4,
   "metadata": {},
   "outputs": [
    {
     "name": "stdout",
     "output_type": "stream",
     "text": [
      "11:134399125\n",
      " 3\n"
     ]
    }
   ],
   "source": [
    "'''Reading in text from a file and processing it by counting the individual \n",
    "entries in form of. a dictionary for storae of the data. finally \n",
    "printing out the text and their respective counts '''\n",
    "handle1=open(\"../../nextflow_h3abionet/nf-tut-2020/files/data/11_f2.bim\")\n",
    "line1=[] # initialising an empty list\n",
    "linedict=dict() # initialising an empty dictionary\n",
    "cont=handle1.readlines() # gives the output as list\n",
    "''' for line in cont:\n",
    "    line=line.rstrip() # removing the newline characters\n",
    "    #line=line.split(\"\\t\") # splitting the line based on tabs\n",
    "    line1.append(line)\n",
    "    #print(line1)\n",
    "    for item in line1:\n",
    "        if item not in linedict:\n",
    "            linedict[item]=1\n",
    "        else:\n",
    "            linedict[item]=linedict[item]+1\n",
    "    #print(linedict)\n",
    "  ''' \n",
    "\n",
    "\n",
    "#print(cont)\n",
    "for item in cont:\n",
    "    if item not in linedict:\n",
    "        linedict[item]=1\n",
    "    else:\n",
    "        linedict[item]=linedict[item]+1\n",
    "#print(linedict)\n",
    "# from the formed dictionary then get the most repeated word\n",
    "bigword=None\n",
    "bigcount=None\n",
    "for ky,val in linedict.items():\n",
    "    if bigcount is None or val>bigcount:\n",
    "        bigword=ky\n",
    "        bigcount=val\n",
    "print(bigword,bigcount)\n",
    "        \n"
   ]
  },
  {
   "cell_type": "markdown",
   "metadata": {},
   "source": [
    "# Counting in dictionaries and looping through dictionaries"
   ]
  },
  {
   "cell_type": "code",
   "execution_count": 10,
   "metadata": {},
   "outputs": [
    {
     "name": "stdout",
     "output_type": "stream",
     "text": [
      "win 23\n",
      "gat 45\n",
      "Mary 34\n"
     ]
    }
   ],
   "source": [
    "#initialising a dictionary\n",
    "contdict={'win':23,'gat':45,'Mary':34}\n",
    "#getting keys only\n",
    "contdict.keys()\n",
    "#getting values only\n",
    "contdict.values()\n",
    "#getting both items i.e key and value pairs\n",
    "contdict.items()\n",
    "#Using a for loop to itearte through the items\n",
    "for keys,values in contdict.items():\n",
    "    print(keys,values)"
   ]
  },
  {
   "cell_type": "markdown",
   "metadata": {},
   "source": [
    "# Text processing using dictionaries, determining the max values"
   ]
  },
  {
   "cell_type": "code",
   "execution_count": 31,
   "metadata": {},
   "outputs": [
    {
     "name": "stdin",
     "output_type": "stream",
     "text": [
      "Please enter a sentence that you love most here Gatua is going out with her friends over the weekend. she has been planning for this outing for quite some time now and she is not willing to give up on her friends pertaining this is is\n"
     ]
    },
    {
     "name": "stdout",
     "output_type": "stream",
     "text": [
      "is 4\n"
     ]
    }
   ],
   "source": [
    "#ask the reader to enter a string\n",
    "string1=input(\"Please enter a sentence that you love most here\")\n",
    "#split the string into a list then form a dictionary from that\n",
    "string_split=string1.split()\n",
    "#print(string_split)\n",
    "#Initialise an empty dictionary and populate it later\n",
    "str_dict=dict()\n",
    "for word in string_split:\n",
    "    #print(word)\n",
    "    str_dict[word]=str_dict.get(word,0)+1\n",
    "#print(str_dict)\n",
    "\n",
    "# determine which word is repeated the most here\n",
    "'''bigword=None\n",
    "bigcount=None\n",
    "for key,value in str_dict.items():\n",
    "    if bigcount is None or value>bigcount:\n",
    "        bigword=key\n",
    "        bigcount=value\n",
    "print(bigword,bigcount)\n",
    "'''\n",
    "#Alternatively\n",
    "for key,value in str_dict.items():\n",
    "    if value is max(str_dict.values()):\n",
    "        print(key,value)\n"
   ]
  },
  {
   "cell_type": "code",
   "execution_count": 2,
   "metadata": {},
   "outputs": [
    {
     "name": "stdin",
     "output_type": "stream",
     "text": [
      "please enter a file name here refresher.py\n"
     ]
    },
    {
     "name": "stdout",
     "output_type": "stream",
     "text": [
      "is 3\n",
      "a 3\n"
     ]
    }
   ],
   "source": [
    "import os\n",
    "# Processing from a file entred by user\n",
    "file=input(\"please enter a file name here\")\n",
    "#initialise an empty dictionary\n",
    "counts=dict()\n",
    "#Reading in a file and catching errors\n",
    "try:\n",
    "    handle=open(file)\n",
    "except:\n",
    "    print(\"\"\"The file you have entred does not exist would you mind \n",
    "          checking the path and file name\"\"\".upper())\n",
    "    quit()\n",
    "for line in handle:\n",
    "    lin=line.split()\n",
    "    #print(lin)\n",
    "    for word in lin:\n",
    "        counts[word]=counts.get(word,0)+1\n",
    "#print(counts)\n",
    "for key,value in counts.items():\n",
    "    if value is max(counts.values()):\n",
    "        print(key,value)\n",
    "handle.close()\n",
    "\n"
   ]
  },
  {
   "cell_type": "code",
   "execution_count": 1,
   "metadata": {},
   "outputs": [
    {
     "name": "stdin",
     "output_type": "stream",
     "text": [
      "Please enter the path to your file .\n",
      "please enter a file name here refresher.py\n"
     ]
    },
    {
     "name": "stdout",
     "output_type": "stream",
     "text": [
      "THE FILEPATH EXISTS ALL TOGETHER\n",
      "is 3\n",
      "a 3\n"
     ]
    }
   ],
   "source": [
    "# Prompting the user to enter the pathto the file\n",
    "import os\n",
    "# Processing from a file and path entred by user\n",
    "path=input(\"Please enter the path to your file\")\n",
    "file=input(\"please enter a file name here\")\n",
    "myfilepath=os.path.join(path,file)\n",
    "# validating if the file indeed exists\n",
    "tag=False\n",
    "if os.path.exists(myfilepath):\n",
    "    tag=True\n",
    "    print(\"The filepath exists all together\".upper())\n",
    "else:\n",
    "    print(\"The filepath does not exist\".upper())\n",
    "#initialise an empty dictionary\n",
    "counts=dict()\n",
    "#Reading in a file and catching errors\n",
    "try:\n",
    "    handle=open(myfilepath)\n",
    "except:\n",
    "    print(\"\"\"The file you have entred does not exist would you mind \n",
    "          checking the path and file name\"\"\".upper())\n",
    "    quit()\n",
    "for line in handle:\n",
    "    lin=line.split()\n",
    "    #print(lin)\n",
    "    for word in lin:\n",
    "        counts[word]=counts.get(word,0)+1\n",
    "#print(counts)\n",
    "for key,value in counts.items():\n",
    "    if value is max(counts.values()):\n",
    "        print(key,value)\n",
    "handle.close() # closing the file to make it available and not held in memory\n",
    "        "
   ]
  },
  {
   "cell_type": "code",
   "execution_count": 27,
   "metadata": {},
   "outputs": [
    {
     "name": "stdin",
     "output_type": "stream",
     "text": [
      "Please enter a path ght\n"
     ]
    },
    {
     "data": {
      "text/plain": [
       "'/Users/wgatua/Documents/Gatua/Workshops/Afterwork_datascience/Pyth_fordata/ght'"
      ]
     },
     "execution_count": 27,
     "metadata": {},
     "output_type": "execute_result"
    }
   ],
   "source": [
    "path= input(\"Please enter a path\")\n",
    "path=os.path.abspath(path)#gives absolute path\n",
    "path\n",
    "#os.path.dirname(path)"
   ]
  },
  {
   "cell_type": "code",
   "execution_count": null,
   "metadata": {},
   "outputs": [],
   "source": [
    "path= input(\"Please enter a path\")\n",
    "tag=False\n",
    "if os.path.exists(path):\n",
    "    tag=True\n",
    "    print(\"Path exists\\n\".upper(), os.path.abspath(path) )\n",
    "    abspath=os.path.abspath(path) #gives absolute path\n",
    "else:\n",
    "    print(\"Path does not exist\".upper())\n",
    "#os.path.abspath(path) #gives absolute path\n",
    "print(abspath)"
   ]
  }
 ],
 "metadata": {
  "kernelspec": {
   "display_name": "Python 3",
   "language": "python",
   "name": "python3"
  },
  "language_info": {
   "codemirror_mode": {
    "name": "ipython",
    "version": 3
   },
   "file_extension": ".py",
   "mimetype": "text/x-python",
   "name": "python",
   "nbconvert_exporter": "python",
   "pygments_lexer": "ipython3",
   "version": "3.8.5"
  }
 },
 "nbformat": 4,
 "nbformat_minor": 4
}
