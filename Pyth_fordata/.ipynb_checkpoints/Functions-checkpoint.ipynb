{
 "cells": [
  {
   "cell_type": "markdown",
   "metadata": {},
   "source": [
    "# Functions"
   ]
  },
  {
   "cell_type": "code",
   "execution_count": 1,
   "metadata": {},
   "outputs": [
    {
     "name": "stdout",
     "output_type": "stream",
     "text": [
      "55\n",
      "Susan\n"
     ]
    }
   ],
   "source": [
    "# Example 1\n",
    "# ---\n",
    "# Let's use built-in functions\n",
    "# ---\n",
    "# \n",
    "\n",
    "# The max() function will return the item with the highest value as shown\n",
    "# in the given list\n",
    "x = max([23, 22, 55, 23, 44])\n",
    "print(x)\n",
    "\n",
    "# Using the max() function, we can return the item with the highest value alphabetically\n",
    "y = max([\"Susan\", \"Grace\", \"Simon\"])\n",
    "print(y)"
   ]
  },
  {
   "cell_type": "code",
   "execution_count": 2,
   "metadata": {},
   "outputs": [
    {
     "data": {
      "text/plain": [
       "10"
      ]
     },
     "execution_count": 2,
     "metadata": {},
     "output_type": "execute_result"
    }
   ],
   "source": [
    "# Let's create a function to find out which of two numbers is greater than the other \n",
    "# ---\n",
    "#\n",
    "\n",
    "# we define it by giving it the name max_of_two\n",
    "def max_of_two():\n",
    "  \n",
    "  # we then define our variables that will contain the numbers to be manipulated\n",
    "  first_number  = 10\n",
    "  second_number = 5\n",
    "  \n",
    "  # then we perform our operations i.e. in this case,\n",
    "  # if first_number is greater than second_number etc.\n",
    "  if first_number > second_number:\n",
    "    \n",
    "      # the return keyword allows us to provide back the result/output of our function\n",
    "    return first_number\n",
    "  \n",
    "    # the return key word allows us to provide back the result/output of our function\n",
    "  return second_number\n",
    " \n",
    "# Lastly, we do the most important step; which is to call the function that \n",
    "# we have just created above. Calling allows us to use the function. \n",
    "# We have also been calling our built-in functions from the previous section.\n",
    "#\n",
    "max_of_two()"
   ]
  },
  {
   "cell_type": "code",
   "execution_count": 3,
   "metadata": {},
   "outputs": [
    {
     "name": "stdout",
     "output_type": "stream",
     "text": [
      "4.5\n"
     ]
    }
   ],
   "source": [
    "# Example 3\n",
    "# ---\n",
    "# Let's define our function by creating a \n",
    "# ---\n",
    "#\n",
    "\n",
    "def average_of_two_numbers(x, y): \n",
    "  average_of_two_numbers = (x + y)/2 \n",
    "  return print(average_of_two_numbers)  \n",
    "  \n",
    "average_of_two_numbers(4, 5) "
   ]
  },
  {
   "cell_type": "code",
   "execution_count": 34,
   "metadata": {},
   "outputs": [
    {
     "name": "stdout",
     "output_type": "stream",
     "text": [
      "22\n"
     ]
    }
   ],
   "source": [
    "# Challenge 1\n",
    "# ---\n",
    "# Question: Determine the lowest value in the given array\n",
    "# ---\n",
    "#\n",
    "\n",
    "x = [23, 22, 55, 23, 44]\n",
    "\n",
    "def Lowest_value():\n",
    "    #utilise pythons built-in function **min**\n",
    "    lowest=min(x)\n",
    "    return lowest\n",
    "Lowest_value()\n",
    "\n",
    "#Alternatively\n",
    "def lowest_value():\n",
    "    #consider sorting the array in ascending order then extract the first element\n",
    "    x.sort()\n",
    "    return print(x[0])\n",
    "lowest_value()\n",
    "\n",
    "#alternatively\n",
    "def lowest_Value():\n",
    "    min1=x[0]# assigning first element in the list to be lowest\n",
    "    for i in range(len(x)):\n",
    "        if x[i]<min1:\n",
    "            min1=x[i]\n",
    "    return print(\"The lowest value is:\",min1)\n",
    "        "
   ]
  },
  {
   "cell_type": "code",
   "execution_count": 35,
   "metadata": {},
   "outputs": [
    {
     "name": "stdout",
     "output_type": "stream",
     "text": [
      "The lowest value is: 22\n"
     ]
    }
   ],
   "source": [
    "lowest_Value()"
   ]
  },
  {
   "cell_type": "code",
   "execution_count": 14,
   "metadata": {},
   "outputs": [
    {
     "name": "stdin",
     "output_type": "stream",
     "text": [
      "please enter your first_name:  Win\n",
      "please enter your middle_name:  Nyox\n",
      "please enter your last_name:  Gatua\n"
     ]
    },
    {
     "name": "stdout",
     "output_type": "stream",
     "text": [
      "Win Nyox Gatua\n"
     ]
    }
   ],
   "source": [
    "# Challenge 2\n",
    "# ---\n",
    "# Create function that takes in first_name, middle_name, and last_name \n",
    "# as parameters and returns the full name\n",
    "# ---\n",
    "#\n",
    "def Name():\n",
    "    x=input(\"please enter your first_name: \")\n",
    "    y=input(\"please enter your middle_name: \")\n",
    "    z=input(\"please enter your last_name: \")\n",
    "    return print(x+\" \"+y+\" \"+z)\n",
    "Name()\n",
    "    "
   ]
  },
  {
   "cell_type": "code",
   "execution_count": 16,
   "metadata": {},
   "outputs": [
    {
     "data": {
      "text/plain": [
       "150"
      ]
     },
     "execution_count": 16,
     "metadata": {},
     "output_type": "execute_result"
    }
   ],
   "source": [
    "# Challenge 3\n",
    "# ---\n",
    "# Question: Create a python function that calculates the area of rectangle \n",
    "# when the value of the height and width is passed to the function.\n",
    "# ---\n",
    "# \n",
    "def Area_Rect(L,W):\n",
    "    #L= length of the rectangle\n",
    "    #W= width of the rectangle\n",
    "    Area=L*W\n",
    "    return Area\n",
    "Area_Rect(10,15)\n",
    "    "
   ]
  },
  {
   "cell_type": "code",
   "execution_count": 17,
   "metadata": {},
   "outputs": [
    {
     "data": {
      "text/plain": [
       "550.0"
      ]
     },
     "execution_count": 17,
     "metadata": {},
     "output_type": "execute_result"
    }
   ],
   "source": [
    "# Challenge 4\n",
    "# ---\n",
    "# Question: Uberite, a logistics app has a base fare of Ksh. 400. \n",
    "# The app charges Ksh. 30 for every 100 meters travelled. \n",
    "# Create a python function fare that takes the distance travelled \n",
    "# as a parameter and returns the charge.\n",
    "# ---\n",
    "# \n",
    "def fare(d):\n",
    "    #d is the distance travelled in metres\n",
    "    base_fare=400\n",
    "    fare_perhundredmetres=(d/100)*30\n",
    "    Tot_Charge=base_fare+fare_perhundredmetres\n",
    "    return Tot_Charge\n",
    "fare(500)"
   ]
  },
  {
   "cell_type": "code",
   "execution_count": 18,
   "metadata": {},
   "outputs": [
    {
     "data": {
      "text/plain": [
       "430.0"
      ]
     },
     "execution_count": 18,
     "metadata": {},
     "output_type": "execute_result"
    }
   ],
   "source": [
    "fare(100)"
   ]
  },
  {
   "cell_type": "code",
   "execution_count": null,
   "metadata": {},
   "outputs": [],
   "source": []
  }
 ],
 "metadata": {
  "kernelspec": {
   "display_name": "Python 3",
   "language": "python",
   "name": "python3"
  },
  "language_info": {
   "codemirror_mode": {
    "name": "ipython",
    "version": 3
   },
   "file_extension": ".py",
   "mimetype": "text/x-python",
   "name": "python",
   "nbconvert_exporter": "python",
   "pygments_lexer": "ipython3",
   "version": "3.8.5"
  }
 },
 "nbformat": 4,
 "nbformat_minor": 4
}
