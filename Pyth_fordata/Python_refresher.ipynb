{
 "cells": [
  {
   "cell_type": "code",
   "execution_count": 3,
   "metadata": {},
   "outputs": [
    {
     "data": {
      "text/plain": [
       "9"
      ]
     },
     "execution_count": 3,
     "metadata": {},
     "output_type": "execute_result"
    }
   ],
   "source": [
    "tree = 5+4\n",
    "tree"
   ]
  },
  {
   "cell_type": "code",
   "execution_count": 5,
   "metadata": {},
   "outputs": [
    {
     "name": "stdin",
     "output_type": "stream",
     "text": [
      "please enter a letter of your choice:  e\n"
     ]
    },
    {
     "name": "stdout",
     "output_type": "stream",
     "text": [
      "You have entered a vowel\n"
     ]
    }
   ],
   "source": [
    "# checing whether the letter entered is a vowel\n",
    "vowel = [\"a\",\"e\",\"i\",\"o\",\"u\"]\n",
    "letter= input(\"please enter a letter of your choice: \")\n",
    "if letter in vowel:\n",
    "  print(\"You have entered a vowel\")\n",
    "else:\n",
    "  print(\"This is not a vowel\")"
   ]
  },
  {
   "cell_type": "code",
   "execution_count": 7,
   "metadata": {},
   "outputs": [
    {
     "name": "stdout",
     "output_type": "stream",
     "text": [
      "{'brand': 'Toyota', 'model': 'Subaru', 'year': 2019}\n"
     ]
    }
   ],
   "source": [
    "# creating a dictionary by the name vehicle\n",
    "vehicle =\t{\n",
    "  'brand': 'Toyota',\n",
    "  'model': 'Subaru',\n",
    "  'year': 2019\n",
    "}\n",
    "print(vehicle)"
   ]
  },
  {
   "cell_type": "code",
   "execution_count": 8,
   "metadata": {},
   "outputs": [
    {
     "name": "stdout",
     "output_type": "stream",
     "text": [
      "{'brand': 'Toyota', 'model': 'Subaru', 'year': 2019, 'engine': '1800cc'}\n"
     ]
    }
   ],
   "source": [
    "# Adding an element to your dictionary\n",
    "vehicle['engine'] = '1800cc'  \n",
    "\n",
    "# Printing out our updated dictionary\n",
    "print(vehicle)"
   ]
  },
  {
   "cell_type": "code",
   "execution_count": 9,
   "metadata": {},
   "outputs": [
    {
     "name": "stdout",
     "output_type": "stream",
     "text": [
      "{'brand': 'Toyota', 'model': 'Subaru', 'year': 2019, 'engine': '2400cc'}\n"
     ]
    }
   ],
   "source": [
    "# Updating an element to our dictionary\n",
    "vehicle['engine'] = '2400cc'\n",
    "\n",
    "# Printing out our updated dictionary\n",
    "print(vehicle)"
   ]
  },
  {
   "cell_type": "code",
   "execution_count": 10,
   "metadata": {},
   "outputs": [
    {
     "name": "stdout",
     "output_type": "stream",
     "text": [
      "Subaru\n",
      "Subaru\n"
     ]
    }
   ],
   "source": [
    "# Accessing an element from a dictionary\n",
    "# ---\n",
    "# \n",
    "\n",
    "# Printing our vehicle's model\n",
    "#\n",
    "print(vehicle[\"model\"]) # one way to assess items using the key as reference\n",
    "\n",
    "# or we could use\n",
    "print(vehicle.get(\"model\")) # a second way to assess the items in the dictionary"
   ]
  },
  {
   "cell_type": "code",
   "execution_count": 15,
   "metadata": {},
   "outputs": [
    {
     "data": {
      "text/plain": [
       "dict_keys(['brand', 'model', 'year', 'engine'])"
      ]
     },
     "execution_count": 15,
     "metadata": {},
     "output_type": "execute_result"
    }
   ],
   "source": [
    "vehicle.keys()"
   ]
  },
  {
   "cell_type": "code",
   "execution_count": 17,
   "metadata": {},
   "outputs": [
    {
     "name": "stdout",
     "output_type": "stream",
     "text": [
      "dict_keys(['brand', 'model', 'year', 'engine']) dict_values(['Toyota', 'Subaru', 2019, '2400cc'])\n"
     ]
    }
   ],
   "source": [
    "# change the keys into values \n",
    "key_port=vehicle.keys()\n",
    "value_port=vehicle.values()\n",
    "print(key_port,value_port)\n"
   ]
  },
  {
   "cell_type": "code",
   "execution_count": 19,
   "metadata": {},
   "outputs": [
    {
     "data": {
      "text/plain": [
       "{'brand': 'Toyota', 'year': 2019, 'engine': '2400cc'}"
      ]
     },
     "execution_count": 19,
     "metadata": {},
     "output_type": "execute_result"
    }
   ],
   "source": [
    " #Removing an element from a dictionary\n",
    "# ---\n",
    "# \n",
    "\n",
    "# Removing model from the dictionary\n",
    "vehicle_without_model = vehicle.pop(\"model\")\n",
    "vehicle"
   ]
  },
  {
   "cell_type": "code",
   "execution_count": 20,
   "metadata": {},
   "outputs": [
    {
     "name": "stdout",
     "output_type": "stream",
     "text": [
      "Yes, the keyword exists in the dictionary\n"
     ]
    }
   ],
   "source": [
    "# Checking if an element exists\n",
    "# ---\n",
    "# \n",
    "\n",
    "if \"brand\" in vehicle:\n",
    "  print(\"Yes, the keyword exists in the dictionary\")\n",
    "else:\n",
    "  print('No, the keyword does not exist in the dictionary')"
   ]
  },
  {
   "cell_type": "code",
   "execution_count": 29,
   "metadata": {},
   "outputs": [
    {
     "data": {
      "text/plain": [
       "{'screen_size': 32, 'screen_type': 'HD', 'manuacturer': 'Samsung'}"
      ]
     },
     "execution_count": 29,
     "metadata": {},
     "output_type": "execute_result"
    }
   ],
   "source": [
    "# Create a dictionary named television then populate it with \n",
    "# any values for screen_size, screen_type, manufacturer\n",
    "# ---\n",
    "#\n",
    "television={\"screen_size\":32,\"screen_type\":\"HD\",\"manuacturer\":\"Samsung\"}\n",
    "television"
   ]
  },
  {
   "cell_type": "code",
   "execution_count": 30,
   "metadata": {},
   "outputs": [
    {
     "data": {
      "text/plain": [
       "{'screen_size': 32,\n",
       " 'screen_type': 'HD',\n",
       " 'manuacturer': 'Samsung',\n",
       " 'date_of_manufacture': 2018}"
      ]
     },
     "execution_count": 30,
     "metadata": {},
     "output_type": "execute_result"
    }
   ],
   "source": [
    "# Add the element date_of_manufacture with value 2018 to the \n",
    "# television dictionary \n",
    "# ---\n",
    "#\n",
    "television[\"date_of_manufacture\"]=2018\n",
    "television"
   ]
  },
  {
   "cell_type": "code",
   "execution_count": 31,
   "metadata": {},
   "outputs": [
    {
     "data": {
      "text/plain": [
       "{'screen_size': 32,\n",
       " 'screen_type': 'HD',\n",
       " 'manuacturer': 'Samsung',\n",
       " 'date_of_manufacture': 2019}"
      ]
     },
     "execution_count": 31,
     "metadata": {},
     "output_type": "execute_result"
    }
   ],
   "source": [
    "# Update the element date_of_manufacture with value 2019 in the \n",
    "# television dictionary \n",
    "# ---\n",
    "#\n",
    "television[\"date_of_manufacture\"]=2019\n",
    "television"
   ]
  },
  {
   "cell_type": "code",
   "execution_count": 33,
   "metadata": {},
   "outputs": [
    {
     "data": {
      "text/plain": [
       "32"
      ]
     },
     "execution_count": 33,
     "metadata": {},
     "output_type": "execute_result"
    }
   ],
   "source": [
    "# Access the screen size in the television dictionary above\n",
    "# ---\n",
    "#\n",
    "television[\"screen_size\"]"
   ]
  },
  {
   "cell_type": "code",
   "execution_count": 49,
   "metadata": {},
   "outputs": [
    {
     "name": "stdout",
     "output_type": "stream",
     "text": [
      "this key is present\n"
     ]
    },
    {
     "data": {
      "text/plain": [
       "True"
      ]
     },
     "execution_count": 49,
     "metadata": {},
     "output_type": "execute_result"
    }
   ],
   "source": [
    "# Check whether designer is a key in the television dictionary \n",
    "# ---\n",
    "#\n",
    "#television.has_key(\"designer\")\n",
    "#for k,v in television.items():\n",
    "#    if k == \"date_of_manufacture\":\n",
    "#        print(\"this key is present\")\n",
    "#    else:\n",
    "#        print(\"no key 0f this nature here\")\n",
    "        \n",
    "        \n",
    "for k,v in television.items():\n",
    "    if k != \"date_of_manufacture\":\n",
    "        pass\n",
    "    else:\n",
    "        print(\"This key is present\")\n",
    "#alternatively\n",
    "\"date_of_manufacture\" in television.keys()"
   ]
  },
  {
   "cell_type": "code",
   "execution_count": 48,
   "metadata": {},
   "outputs": [
    {
     "name": "stdout",
     "output_type": "stream",
     "text": [
      "key absent\n",
      "key absent\n",
      "key absent\n",
      "key absent\n"
     ]
    },
    {
     "data": {
      "text/plain": [
       "False"
      ]
     },
     "execution_count": 48,
     "metadata": {},
     "output_type": "execute_result"
    }
   ],
   "source": [
    "for k,v in television .items():\n",
    "    if k !=\"designer\":\n",
    "        print(\"This key is absent\")\n",
    "    else:\n",
    "        print(\"This key is present\")\n",
    "        \n",
    "#alternatively\n",
    "\"designer\" in television.keys()"
   ]
  },
  {
   "cell_type": "markdown",
   "metadata": {},
   "source": [
    "# For loops"
   ]
  },
  {
   "cell_type": "code",
   "execution_count": 50,
   "metadata": {},
   "outputs": [
    {
     "name": "stdout",
     "output_type": "stream",
     "text": [
      "K\n",
      "a\n",
      "r\n",
      "u\n",
      "n\n",
      "a\n",
      " \n",
      "K\n",
      "a\n",
      "r\n",
      "u\n",
      "n\n",
      "a\n"
     ]
    }
   ],
   "source": [
    "# Looping/iterating through a string\n",
    "# ---\n",
    "# \n",
    "for y in \"Karuna Karuna\":\n",
    "  print(y)"
   ]
  },
  {
   "cell_type": "code",
   "execution_count": 51,
   "metadata": {},
   "outputs": [
    {
     "name": "stdout",
     "output_type": "stream",
     "text": [
      "cj's\n",
      "Java\n",
      "Nyama Mama\n",
      "Italian\n",
      "Viridian\n"
     ]
    }
   ],
   "source": [
    "# Using a break statement to stop the loop before it continues its iteration\n",
    "# ---\n",
    "# \n",
    "\n",
    "# Let's print out the restaurants list that we had created earlier on\n",
    "restaurants = [\"cj's\", \"Java\", \"Nyama Mama\", \"Italian\", \"Viridian\", \"Khosa\"]\n",
    "\n",
    "# Looping and using a break statement\n",
    "for x in restaurants:\n",
    "  print(x) \n",
    "  if x == \"Viridian\":\n",
    "    break"
   ]
  },
  {
   "cell_type": "code",
   "execution_count": 52,
   "metadata": {},
   "outputs": [
    {
     "name": "stdout",
     "output_type": "stream",
     "text": [
      "Checked Phone : iphone 4\n",
      "Checked Phone : iphone 5\n",
      "Checked Phone : iphone 7\n",
      "Checked Phone : iphone x\n",
      "Checked Phone : iphone xs\n"
     ]
    }
   ],
   "source": [
    "# Using a continue statement to stop the current iteration of the loop \n",
    "# and continue the next section of our code\n",
    "# ---\n",
    "# \n",
    "\n",
    "mobile_phone = [\"iphone 4\", \"iphone 5\", \"iphone 6\", \"iphone 7\", \"iphone 8\", \"iphone x\", \"iphone xs\"]\n",
    "\n",
    "for x in mobile_phone:  \n",
    "    if x == 'iphone 6' or x == 'iphone 8': \n",
    "         continue\n",
    "    print ('Checked Phone :', x) "
   ]
  },
  {
   "cell_type": "code",
   "execution_count": 53,
   "metadata": {},
   "outputs": [
    {
     "name": "stdout",
     "output_type": "stream",
     "text": [
      "M\n",
      "y\n",
      " \n",
      "l\n",
      "a\n",
      "n\n",
      "d\n",
      " \n",
      "i\n",
      "n\n",
      " \n",
      "K\n",
      "e\n",
      "n\n",
      "y\n",
      "a\n"
     ]
    }
   ],
   "source": [
    "# Question: Iterate through the string \"My land is Kenya\"\n",
    "# ---\n",
    "#\n",
    "for i in \"My land in Kenya\":\n",
    "    print(i)"
   ]
  },
  {
   "cell_type": "code",
   "execution_count": 54,
   "metadata": {},
   "outputs": [
    {
     "name": "stdout",
     "output_type": "stream",
     "text": [
      "Oliech\n",
      "Kahata\n",
      "Yohana\n",
      "Matasi\n",
      "Mariga\n"
     ]
    }
   ],
   "source": [
    "# Question: Iterate through the given footballers list and stop at \"Mariga\"\n",
    "# ---\n",
    "# \n",
    "\n",
    "footballers = [\"Oliech\", \"Kahata\", \"Yohana\", \"Matasi\", \"Mariga\", \"Wanyama\"]\n",
    "\n",
    "for players in footballers:\n",
    "    print(players)\n",
    "    if players==\"Mariga\":\n",
    "        break"
   ]
  },
  {
   "cell_type": "code",
   "execution_count": 56,
   "metadata": {},
   "outputs": [
    {
     "name": "stdout",
     "output_type": "stream",
     "text": [
      "Vanilla\n",
      "Banana\n",
      "Passion\n"
     ]
    }
   ],
   "source": [
    "# Let's print out a word if it doesn't have the letter \"e\" in the given cakes below\n",
    "# ---\n",
    "# Hint: \n",
    "# \n",
    "\n",
    "cakes = [\"Blueberry\", \"Raspberry\", \"Vanilla\", \"Chocolate\", \"Marble\", \"Apple\", \"Banana\", \"Passion\"]\n",
    "\n",
    "for i in cakes:\n",
    "    if \"e\" in i:\n",
    "        pass\n",
    "    else:\n",
    "        print(i)"
   ]
  },
  {
   "cell_type": "markdown",
   "metadata": {},
   "source": [
    "# While loop"
   ]
  },
  {
   "cell_type": "code",
   "execution_count": 10,
   "metadata": {},
   "outputs": [
    {
     "name": "stdout",
     "output_type": "stream",
     "text": [
      "Mukami\n",
      "Kamau\n",
      "Oliech\n",
      "Otieno\n",
      "Ewar\n",
      "Nyambura\n",
      "Lucas\n",
      "Dennis\n",
      "Hellen\n"
     ]
    }
   ],
   "source": [
    "# Iterating over a list using the while loop\n",
    "# ---\n",
    "\n",
    "# First defining our list\n",
    "teachers = ['Mukami', 'Kamau', 'Oliech', 'Otieno', 'Ewar', 'Nyambura', 'Lucas', 'Dennis', 'Hellen']\n",
    "\n",
    "# Our while loop will start counting from 0,\n",
    "i = 0\n",
    "\n",
    "# determining the no. of elements in our teachers list\n",
    "no_of_teachers = len(teachers) \n",
    "\n",
    "# Performing our iteration, starting from 0 until i is not less than the no_of_teachers\n",
    "while i < no_of_teachers:  #iterates over the items until the condition is false\n",
    "  \n",
    "  # print out the element in the list as per the index\n",
    "  print(teachers[i])\n",
    "  \n",
    "  # incrementing our i by 1\n",
    "  i += 1"
   ]
  },
  {
   "cell_type": "code",
   "execution_count": 11,
   "metadata": {},
   "outputs": [
    {
     "name": "stdout",
     "output_type": "stream",
     "text": [
      "Find the element at position: 6\n"
     ]
    }
   ],
   "source": [
    "# Using a break statement while iterating over our teachers list\n",
    "# ---\n",
    "# \n",
    "\n",
    "# Our while loop will start counting from 0,\n",
    "i = 0\n",
    "\n",
    "# determining the no. of elements in our teachers list\n",
    "no_of_teachers = len(teachers) \n",
    "\n",
    "# defining our word variable\n",
    "word = \"Lucas\"\n",
    "\n",
    "\n",
    "# Performing our iteration, starting from 0 until i is not less than the no_of_teachers\n",
    "while i < no_of_teachers:\n",
    "  \n",
    "  # print out the element in the list as per the index\n",
    "  if word == teachers[i]:\n",
    "    \n",
    "      print(\"Find the element at position:\",i)\n",
    "    \n",
    "      break\n",
    "  \n",
    "  # incrementing our i by 1\n",
    "  i += 1"
   ]
  },
  {
   "cell_type": "code",
   "execution_count": 13,
   "metadata": {},
   "outputs": [
    {
     "name": "stdout",
     "output_type": "stream",
     "text": [
      "Checking element: 0\n",
      "Checking element: 1\n",
      "Checking element: 2\n",
      "Checking element: 3\n",
      "Checking element: 4\n",
      "Checking element: 5\n",
      "Checking element: 6\n",
      "Find the element at  6\n"
     ]
    }
   ],
   "source": [
    "# Using the continue statement forces the next iteration of the loop to take place \n",
    "# ---\n",
    "#\n",
    "\n",
    "# Our while loop will start counting from 0,\n",
    "i = 0\n",
    "\n",
    "# determining the no. of elements in our teachers list\n",
    "no_of_teachers = len(teachers) \n",
    "\n",
    "# defining our word variable\n",
    "word = \"Lucas\"\n",
    "\n",
    "\n",
    "# Performing our iteration, starting from 0 until i is not less than the no_of_teachers\n",
    "while i < no_of_teachers:\n",
    "  \n",
    "    print(\"Checking element:\", i)\n",
    "    \n",
    "    if word != teachers[i]:\n",
    "        \n",
    "        i = i + 1\n",
    "        \n",
    "        continue\n",
    " \n",
    "    print(\"Find the element at \", i)\n",
    "    \n",
    "    # stop the loop\n",
    "    i = no_of_teachers "
   ]
  },
  {
   "cell_type": "code",
   "execution_count": 7,
   "metadata": {},
   "outputs": [
    {
     "name": "stdout",
     "output_type": "stream",
     "text": [
      "0\n",
      "1\n",
      "2\n",
      "3\n",
      "4\n",
      "5\n",
      "6\n",
      "7\n",
      "8\n",
      "9\n"
     ]
    }
   ],
   "source": [
    "# Question: Iterate through the following list and stop at 8\n",
    "# ---\n",
    "# \n",
    "\n",
    "a = [1, 2, 4, 12, 1, 2, 3, (5, 6), ['Hello', 'From', 'The'], 8, 'Other', 'Side']\n",
    "\n",
    "#initialise a counter\n",
    "t=0\n",
    "len_a=len(a)\n",
    "#print(len_a)\n",
    "stop=8\n",
    "while t < len_a:\n",
    "    print(t)\n",
    "    if stop == a[t]:\n",
    "        break\n",
    "    t+=1\n",
    "    "
   ]
  },
  {
   "cell_type": "code",
   "execution_count": 2,
   "metadata": {},
   "outputs": [
    {
     "name": "stdout",
     "output_type": "stream",
     "text": [
      "checking this out: 1\n",
      "checking this out: 2\n",
      "checking this out: 4\n",
      "checking this out: 12\n",
      "checking this out: 1\n",
      "checking this out: 2\n",
      "checking this out: 3\n",
      "checking this out: (5, 6)\n",
      "checking this out: ['Hello', 'From', 'The']\n",
      "checking this out: 8\n",
      "checking this out: Side\n"
     ]
    }
   ],
   "source": [
    "# Question: Create a while loop that prints out the following list \n",
    "# skipping the string 'Other' during iteration.\n",
    "# ---\n",
    "# \n",
    "\n",
    "a = [1, 2, 4, 12, 1, 2, 3, (5, 6), ['Hello', 'From', 'The'], 8, 'Other', 'Side']\n",
    "\n",
    "#initialising the counter\n",
    "count=0\n",
    "len_a=len(a)\n",
    "len_a\n",
    "skip=\"Other\"\n",
    "while count < len_a:\n",
    "    if skip != a[count]:\n",
    "        print(\"checking this out:\", a[count])\n",
    "    count+=1\n",
    "    continue\n",
    "    print(\"finding the element at position:\", count)"
   ]
  },
  {
   "cell_type": "code",
   "execution_count": 1,
   "metadata": {},
   "outputs": [],
   "source": [
    "a=4\n",
    "L=[]\n"
   ]
  },
  {
   "cell_type": "code",
   "execution_count": 2,
   "metadata": {},
   "outputs": [
    {
     "data": {
      "text/plain": [
       "0"
      ]
     },
     "execution_count": 2,
     "metadata": {},
     "output_type": "execute_result"
    }
   ],
   "source": [
    "0%3"
   ]
  },
  {
   "cell_type": "code",
   "execution_count": 3,
   "metadata": {},
   "outputs": [
    {
     "data": {
      "text/plain": [
       "5.0"
      ]
     },
     "execution_count": 3,
     "metadata": {},
     "output_type": "execute_result"
    }
   ],
   "source": [
    "from math import sqrt\n",
    "sqrt(25)"
   ]
  },
  {
   "cell_type": "code",
   "execution_count": 33,
   "metadata": {},
   "outputs": [
    {
     "name": "stdout",
     "output_type": "stream",
     "text": [
      "7500\n"
     ]
    },
    {
     "data": {
      "text/plain": [
       "NoneType"
      ]
     },
     "execution_count": 33,
     "metadata": {},
     "output_type": "execute_result"
    }
   ],
   "source": [
    "#sum of all odd integers between 100 and 200\n",
    "a=100\n",
    "b=200\n",
    "total=0\n",
    "for i in range(100,201):\n",
    "    #print(i)\n",
    "    if i%2==1:\n",
    "        #print(i)\n",
    "        total=total+i\n",
    "print(total)"
   ]
  },
  {
   "cell_type": "code",
   "execution_count": null,
   "metadata": {},
   "outputs": [],
   "source": []
  },
  {
   "cell_type": "code",
   "execution_count": 7,
   "metadata": {},
   "outputs": [
    {
     "name": "stdout",
     "output_type": "stream",
     "text": [
      "Help on class range in module builtins:\n",
      "\n",
      "class range(object)\n",
      " |  range(stop) -> range object\n",
      " |  range(start, stop[, step]) -> range object\n",
      " |  \n",
      " |  Return an object that produces a sequence of integers from start (inclusive)\n",
      " |  to stop (exclusive) by step.  range(i, j) produces i, i+1, i+2, ..., j-1.\n",
      " |  start defaults to 0, and stop is omitted!  range(4) produces 0, 1, 2, 3.\n",
      " |  These are exactly the valid indices for a list of 4 elements.\n",
      " |  When step is given, it specifies the increment (or decrement).\n",
      " |  \n",
      " |  Methods defined here:\n",
      " |  \n",
      " |  __bool__(self, /)\n",
      " |      self != 0\n",
      " |  \n",
      " |  __contains__(self, key, /)\n",
      " |      Return key in self.\n",
      " |  \n",
      " |  __eq__(self, value, /)\n",
      " |      Return self==value.\n",
      " |  \n",
      " |  __ge__(self, value, /)\n",
      " |      Return self>=value.\n",
      " |  \n",
      " |  __getattribute__(self, name, /)\n",
      " |      Return getattr(self, name).\n",
      " |  \n",
      " |  __getitem__(self, key, /)\n",
      " |      Return self[key].\n",
      " |  \n",
      " |  __gt__(self, value, /)\n",
      " |      Return self>value.\n",
      " |  \n",
      " |  __hash__(self, /)\n",
      " |      Return hash(self).\n",
      " |  \n",
      " |  __iter__(self, /)\n",
      " |      Implement iter(self).\n",
      " |  \n",
      " |  __le__(self, value, /)\n",
      " |      Return self<=value.\n",
      " |  \n",
      " |  __len__(self, /)\n",
      " |      Return len(self).\n",
      " |  \n",
      " |  __lt__(self, value, /)\n",
      " |      Return self<value.\n",
      " |  \n",
      " |  __ne__(self, value, /)\n",
      " |      Return self!=value.\n",
      " |  \n",
      " |  __reduce__(...)\n",
      " |      Helper for pickle.\n",
      " |  \n",
      " |  __repr__(self, /)\n",
      " |      Return repr(self).\n",
      " |  \n",
      " |  __reversed__(...)\n",
      " |      Return a reverse iterator.\n",
      " |  \n",
      " |  count(...)\n",
      " |      rangeobject.count(value) -> integer -- return number of occurrences of value\n",
      " |  \n",
      " |  index(...)\n",
      " |      rangeobject.index(value) -> integer -- return index of value.\n",
      " |      Raise ValueError if the value is not present.\n",
      " |  \n",
      " |  ----------------------------------------------------------------------\n",
      " |  Static methods defined here:\n",
      " |  \n",
      " |  __new__(*args, **kwargs) from builtins.type\n",
      " |      Create and return a new object.  See help(type) for accurate signature.\n",
      " |  \n",
      " |  ----------------------------------------------------------------------\n",
      " |  Data descriptors defined here:\n",
      " |  \n",
      " |  start\n",
      " |  \n",
      " |  step\n",
      " |  \n",
      " |  stop\n",
      "\n"
     ]
    }
   ],
   "source": [
    "help(range)"
   ]
  },
  {
   "cell_type": "code",
   "execution_count": null,
   "metadata": {},
   "outputs": [],
   "source": []
  }
 ],
 "metadata": {
  "kernelspec": {
   "display_name": "Python 3",
   "language": "python",
   "name": "python3"
  },
  "language_info": {
   "codemirror_mode": {
    "name": "ipython",
    "version": 3
   },
   "file_extension": ".py",
   "mimetype": "text/x-python",
   "name": "python",
   "nbconvert_exporter": "python",
   "pygments_lexer": "ipython3",
   "version": "3.8.5"
  }
 },
 "nbformat": 4,
 "nbformat_minor": 4
}
